{
 "cells": [
  {
   "attachments": {},
   "cell_type": "markdown",
   "metadata": {},
   "source": [
    "LSTM"
   ]
  },
  {
   "cell_type": "code",
   "execution_count": 36,
   "metadata": {},
   "outputs": [],
   "source": [
    "import numpy as np\n",
    "import pandas as pd\n",
    "from sklearn.preprocessing import MinMaxScaler\n",
    "from tensorflow.keras.models import Sequential\n",
    "from tensorflow.keras.layers import LSTM, Dense\n",
    "from tensorflow.keras.callbacks import EarlyStopping"
   ]
  },
  {
   "cell_type": "code",
   "execution_count": 37,
   "metadata": {},
   "outputs": [],
   "source": [
    "# Load the rainfall data\n",
    "data = pd.read_csv('Cherranpunji Rainfall.csv')"
   ]
  },
  {
   "cell_type": "code",
   "execution_count": 40,
   "metadata": {},
   "outputs": [
    {
     "data": {
      "text/html": [
       "<div>\n",
       "<style scoped>\n",
       "    .dataframe tbody tr th:only-of-type {\n",
       "        vertical-align: middle;\n",
       "    }\n",
       "\n",
       "    .dataframe tbody tr th {\n",
       "        vertical-align: top;\n",
       "    }\n",
       "\n",
       "    .dataframe thead th {\n",
       "        text-align: right;\n",
       "    }\n",
       "</style>\n",
       "<table border=\"1\" class=\"dataframe\">\n",
       "  <thead>\n",
       "    <tr style=\"text-align: right;\">\n",
       "      <th></th>\n",
       "      <th>YEAR</th>\n",
       "      <th>DOY</th>\n",
       "      <th>QV2M</th>\n",
       "      <th>RH2M</th>\n",
       "      <th>PRECTOTCORR</th>\n",
       "      <th>T2M_MAX</th>\n",
       "      <th>T2M_MIN</th>\n",
       "      <th>T2MWET</th>\n",
       "      <th>T2MDEW</th>\n",
       "      <th>WD10M</th>\n",
       "      <th>WS10M_MAX</th>\n",
       "      <th>WS10M_MIN</th>\n",
       "    </tr>\n",
       "  </thead>\n",
       "  <tbody>\n",
       "    <tr>\n",
       "      <th>0</th>\n",
       "      <td>1981</td>\n",
       "      <td>5</td>\n",
       "      <td>5.98</td>\n",
       "      <td>70.75</td>\n",
       "      <td>0.23</td>\n",
       "      <td>15.79</td>\n",
       "      <td>5.10</td>\n",
       "      <td>7.01</td>\n",
       "      <td>4.31</td>\n",
       "      <td>249.00</td>\n",
       "      <td>3.18</td>\n",
       "      <td>1.05</td>\n",
       "    </tr>\n",
       "    <tr>\n",
       "      <th>1</th>\n",
       "      <td>1981</td>\n",
       "      <td>6</td>\n",
       "      <td>7.20</td>\n",
       "      <td>83.94</td>\n",
       "      <td>0.14</td>\n",
       "      <td>14.13</td>\n",
       "      <td>5.39</td>\n",
       "      <td>8.34</td>\n",
       "      <td>6.99</td>\n",
       "      <td>242.56</td>\n",
       "      <td>3.68</td>\n",
       "      <td>1.25</td>\n",
       "    </tr>\n",
       "    <tr>\n",
       "      <th>2</th>\n",
       "      <td>1981</td>\n",
       "      <td>7</td>\n",
       "      <td>7.87</td>\n",
       "      <td>87.94</td>\n",
       "      <td>6.24</td>\n",
       "      <td>14.34</td>\n",
       "      <td>7.80</td>\n",
       "      <td>9.39</td>\n",
       "      <td>8.37</td>\n",
       "      <td>154.44</td>\n",
       "      <td>3.38</td>\n",
       "      <td>0.49</td>\n",
       "    </tr>\n",
       "    <tr>\n",
       "      <th>3</th>\n",
       "      <td>1981</td>\n",
       "      <td>8</td>\n",
       "      <td>7.20</td>\n",
       "      <td>86.06</td>\n",
       "      <td>3.23</td>\n",
       "      <td>14.59</td>\n",
       "      <td>6.51</td>\n",
       "      <td>8.38</td>\n",
       "      <td>7.15</td>\n",
       "      <td>202.19</td>\n",
       "      <td>3.26</td>\n",
       "      <td>0.38</td>\n",
       "    </tr>\n",
       "    <tr>\n",
       "      <th>4</th>\n",
       "      <td>1981</td>\n",
       "      <td>9</td>\n",
       "      <td>6.23</td>\n",
       "      <td>83.44</td>\n",
       "      <td>0.01</td>\n",
       "      <td>14.44</td>\n",
       "      <td>2.52</td>\n",
       "      <td>6.42</td>\n",
       "      <td>5.05</td>\n",
       "      <td>59.62</td>\n",
       "      <td>2.49</td>\n",
       "      <td>0.86</td>\n",
       "    </tr>\n",
       "  </tbody>\n",
       "</table>\n",
       "</div>"
      ],
      "text/plain": [
       "   YEAR  DOY  QV2M   RH2M  PRECTOTCORR  T2M_MAX  T2M_MIN  T2MWET  T2MDEW   \n",
       "0  1981    5  5.98  70.75         0.23    15.79     5.10    7.01    4.31  \\\n",
       "1  1981    6  7.20  83.94         0.14    14.13     5.39    8.34    6.99   \n",
       "2  1981    7  7.87  87.94         6.24    14.34     7.80    9.39    8.37   \n",
       "3  1981    8  7.20  86.06         3.23    14.59     6.51    8.38    7.15   \n",
       "4  1981    9  6.23  83.44         0.01    14.44     2.52    6.42    5.05   \n",
       "\n",
       "    WD10M  WS10M_MAX  WS10M_MIN  \n",
       "0  249.00       3.18       1.05  \n",
       "1  242.56       3.68       1.25  \n",
       "2  154.44       3.38       0.49  \n",
       "3  202.19       3.26       0.38  \n",
       "4   59.62       2.49       0.86  "
      ]
     },
     "execution_count": 40,
     "metadata": {},
     "output_type": "execute_result"
    }
   ],
   "source": [
    "data.head()"
   ]
  },
  {
   "cell_type": "code",
   "execution_count": 41,
   "metadata": {},
   "outputs": [],
   "source": [
    "# Extract the rainfall values\n",
    "rainfall_values = data['PRECTOTCORR'].values\n"
   ]
  },
  {
   "cell_type": "code",
   "execution_count": 42,
   "metadata": {},
   "outputs": [],
   "source": [
    "# Normalize the data\n",
    "scaler = MinMaxScaler(feature_range=(0, 1))\n",
    "scaled_data = scaler.fit_transform(rainfall_values.reshape(-1, 1))"
   ]
  },
  {
   "cell_type": "code",
   "execution_count": 43,
   "metadata": {},
   "outputs": [],
   "source": [
    "# Define the sequence length and number of features\n",
    "sequence_length = 10\n",
    "n_features = 1"
   ]
  },
  {
   "cell_type": "code",
   "execution_count": 44,
   "metadata": {},
   "outputs": [],
   "source": [
    "# Create sequences and labels\n",
    "sequences = []\n",
    "labels = []\n",
    "for i in range(sequence_length, len(scaled_data)):\n",
    "    sequences.append(scaled_data[i-sequence_length:i, 0])\n",
    "    labels.append(scaled_data[i, 0])\n"
   ]
  },
  {
   "cell_type": "code",
   "execution_count": 45,
   "metadata": {},
   "outputs": [],
   "source": [
    "# Convert sequences and labels to NumPy arrays\n",
    "sequences = np.array(sequences)\n",
    "labels = np.array(labels)"
   ]
  },
  {
   "cell_type": "code",
   "execution_count": 46,
   "metadata": {},
   "outputs": [],
   "source": [
    "# Reshape sequences for LSTM input\n",
    "sequences = np.reshape(sequences, (sequences.shape[0], sequence_length, n_features))"
   ]
  },
  {
   "cell_type": "code",
   "execution_count": 47,
   "metadata": {},
   "outputs": [],
   "source": [
    "# Split the data into training and testing sets\n",
    "split_ratio = 0.8\n",
    "split_index = int(split_ratio * len(sequences))\n"
   ]
  },
  {
   "cell_type": "code",
   "execution_count": 48,
   "metadata": {},
   "outputs": [],
   "source": [
    "train_sequences = sequences[:split_index]\n",
    "train_labels = labels[:split_index]\n",
    "test_sequences = sequences[split_index:]\n",
    "test_labels = labels[split_index:]\n"
   ]
  },
  {
   "cell_type": "code",
   "execution_count": 49,
   "metadata": {},
   "outputs": [],
   "source": [
    "# Build the LSTM model\n",
    "model = Sequential()\n",
    "model.add(LSTM(50, return_sequences=True, input_shape=(sequence_length, n_features)))\n",
    "model.add(LSTM(50))\n",
    "model.add(Dense(1))\n"
   ]
  },
  {
   "cell_type": "code",
   "execution_count": 50,
   "metadata": {},
   "outputs": [],
   "source": [
    "# Compile the model\n",
    "model.compile(loss='mean_squared_error', optimizer='adam')"
   ]
  },
  {
   "cell_type": "code",
   "execution_count": 51,
   "metadata": {},
   "outputs": [],
   "source": [
    "# Define early stopping callback\n",
    "early_stopping = EarlyStopping(monitor='val_loss', patience=5)"
   ]
  },
  {
   "cell_type": "code",
   "execution_count": 52,
   "metadata": {},
   "outputs": [
    {
     "name": "stdout",
     "output_type": "stream",
     "text": [
      "Epoch 1/100\n",
      "368/368 [==============================] - 5s 7ms/step - loss: 0.0017 - val_loss: 0.0035\n",
      "Epoch 2/100\n",
      "368/368 [==============================] - 2s 6ms/step - loss: 0.0015 - val_loss: 0.0034\n",
      "Epoch 3/100\n",
      "368/368 [==============================] - 2s 6ms/step - loss: 0.0015 - val_loss: 0.0036\n",
      "Epoch 4/100\n",
      "368/368 [==============================] - 2s 6ms/step - loss: 0.0015 - val_loss: 0.0035\n",
      "Epoch 5/100\n",
      "368/368 [==============================] - 2s 5ms/step - loss: 0.0015 - val_loss: 0.0033\n",
      "Epoch 6/100\n",
      "368/368 [==============================] - 2s 6ms/step - loss: 0.0014 - val_loss: 0.0035\n",
      "Epoch 7/100\n",
      "368/368 [==============================] - 2s 6ms/step - loss: 0.0014 - val_loss: 0.0034\n",
      "Epoch 8/100\n",
      "368/368 [==============================] - 2s 6ms/step - loss: 0.0014 - val_loss: 0.0033\n",
      "Epoch 9/100\n",
      "368/368 [==============================] - 2s 6ms/step - loss: 0.0014 - val_loss: 0.0034\n",
      "Epoch 10/100\n",
      "368/368 [==============================] - 2s 6ms/step - loss: 0.0014 - val_loss: 0.0036\n"
     ]
    },
    {
     "data": {
      "text/plain": [
       "<keras.callbacks.History at 0x2480cd88c10>"
      ]
     },
     "execution_count": 52,
     "metadata": {},
     "output_type": "execute_result"
    }
   ],
   "source": [
    "# Train the model\n",
    "model.fit(train_sequences, train_labels, epochs=100, batch_size=32, validation_data=(test_sequences, test_labels), callbacks=[early_stopping])"
   ]
  },
  {
   "cell_type": "code",
   "execution_count": 53,
   "metadata": {},
   "outputs": [
    {
     "name": "stdout",
     "output_type": "stream",
     "text": [
      "92/92 [==============================] - 1s 2ms/step\n"
     ]
    }
   ],
   "source": [
    "# Make predictions\n",
    "predicted_labels = model.predict(test_sequences)"
   ]
  },
  {
   "cell_type": "code",
   "execution_count": 54,
   "metadata": {},
   "outputs": [],
   "source": [
    "# Inverse transform the predicted and actual labels\n",
    "predicted_labels = scaler.inverse_transform(predicted_labels)\n",
    "test_labels = scaler.inverse_transform(test_labels.reshape(-1, 1))"
   ]
  },
  {
   "cell_type": "code",
   "execution_count": 55,
   "metadata": {},
   "outputs": [
    {
     "name": "stdout",
     "output_type": "stream",
     "text": [
      "Mean Absolute Error (MAE): 6.812171863005062\n",
      "Root Mean Square Error (RMSE): 14.571309324466776\n"
     ]
    }
   ],
   "source": [
    "# Calculate evaluation metrics\n",
    "mae = np.mean(np.abs(predicted_labels - test_labels))\n",
    "rmse = np.sqrt(np.mean(np.square(predicted_labels - test_labels)))\n",
    "print('Mean Absolute Error (MAE):', mae)\n",
    "print('Root Mean Square Error (RMSE):', rmse)"
   ]
  }
 ],
 "metadata": {
  "kernelspec": {
   "display_name": "base",
   "language": "python",
   "name": "python3"
  },
  "language_info": {
   "codemirror_mode": {
    "name": "ipython",
    "version": 3
   },
   "file_extension": ".py",
   "mimetype": "text/x-python",
   "name": "python",
   "nbconvert_exporter": "python",
   "pygments_lexer": "ipython3",
   "version": "3.11.4"
  },
  "orig_nbformat": 4
 },
 "nbformat": 4,
 "nbformat_minor": 2
}
