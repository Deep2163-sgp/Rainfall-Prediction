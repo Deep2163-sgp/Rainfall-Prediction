{
 "cells": [
  {
   "attachments": {},
   "cell_type": "markdown",
   "metadata": {},
   "source": [
    "Single LSTM"
   ]
  },
  {
   "cell_type": "code",
   "execution_count": 60,
   "metadata": {},
   "outputs": [],
   "source": [
    "import pandas as pd\n",
    "import numpy as np\n",
    "import matplotlib.pyplot as plt\n",
    "from sklearn.preprocessing import MinMaxScaler\n",
    "from tensorflow.keras.models import Sequential\n",
    "from tensorflow.keras.layers import LSTM, Dense\n",
    "from tensorflow.keras.callbacks import EarlyStopping\n"
   ]
  },
  {
   "cell_type": "code",
   "execution_count": 61,
   "metadata": {},
   "outputs": [],
   "source": [
    "# Load the rainfall data\n",
    "data = pd.read_csv('Data1_Columbia.csv')"
   ]
  },
  {
   "cell_type": "code",
   "execution_count": 62,
   "metadata": {},
   "outputs": [
    {
     "data": {
      "text/html": [
       "<div>\n",
       "<style scoped>\n",
       "    .dataframe tbody tr th:only-of-type {\n",
       "        vertical-align: middle;\n",
       "    }\n",
       "\n",
       "    .dataframe tbody tr th {\n",
       "        vertical-align: top;\n",
       "    }\n",
       "\n",
       "    .dataframe thead th {\n",
       "        text-align: right;\n",
       "    }\n",
       "</style>\n",
       "<table border=\"1\" class=\"dataframe\">\n",
       "  <thead>\n",
       "    <tr style=\"text-align: right;\">\n",
       "      <th></th>\n",
       "      <th>Rainfall</th>\n",
       "      <th>T2M</th>\n",
       "      <th>T2MWET</th>\n",
       "      <th>T2M_MAX</th>\n",
       "      <th>T2M_MIN</th>\n",
       "      <th>T2MDEW</th>\n",
       "      <th>RH2M</th>\n",
       "      <th>WS2M_MAX</th>\n",
       "      <th>WS2M_MIN</th>\n",
       "      <th>WD10M</th>\n",
       "      <th>PS</th>\n",
       "    </tr>\n",
       "  </thead>\n",
       "  <tbody>\n",
       "    <tr>\n",
       "      <th>0</th>\n",
       "      <td>8.20</td>\n",
       "      <td>26.12</td>\n",
       "      <td>24.44</td>\n",
       "      <td>26.70</td>\n",
       "      <td>25.63</td>\n",
       "      <td>22.75</td>\n",
       "      <td>81.56</td>\n",
       "      <td>4.15</td>\n",
       "      <td>0.57</td>\n",
       "      <td>56.50</td>\n",
       "      <td>101.19</td>\n",
       "    </tr>\n",
       "    <tr>\n",
       "      <th>1</th>\n",
       "      <td>0.72</td>\n",
       "      <td>26.96</td>\n",
       "      <td>25.01</td>\n",
       "      <td>27.42</td>\n",
       "      <td>26.15</td>\n",
       "      <td>23.05</td>\n",
       "      <td>79.19</td>\n",
       "      <td>5.38</td>\n",
       "      <td>4.21</td>\n",
       "      <td>47.94</td>\n",
       "      <td>101.17</td>\n",
       "    </tr>\n",
       "    <tr>\n",
       "      <th>2</th>\n",
       "      <td>5.68</td>\n",
       "      <td>26.15</td>\n",
       "      <td>23.98</td>\n",
       "      <td>26.62</td>\n",
       "      <td>25.89</td>\n",
       "      <td>21.82</td>\n",
       "      <td>77.00</td>\n",
       "      <td>2.18</td>\n",
       "      <td>0.19</td>\n",
       "      <td>158.00</td>\n",
       "      <td>101.09</td>\n",
       "    </tr>\n",
       "    <tr>\n",
       "      <th>3</th>\n",
       "      <td>4.25</td>\n",
       "      <td>26.02</td>\n",
       "      <td>23.74</td>\n",
       "      <td>26.38</td>\n",
       "      <td>25.80</td>\n",
       "      <td>21.47</td>\n",
       "      <td>75.94</td>\n",
       "      <td>2.73</td>\n",
       "      <td>0.68</td>\n",
       "      <td>87.69</td>\n",
       "      <td>101.16</td>\n",
       "    </tr>\n",
       "    <tr>\n",
       "      <th>4</th>\n",
       "      <td>8.20</td>\n",
       "      <td>26.12</td>\n",
       "      <td>24.44</td>\n",
       "      <td>26.70</td>\n",
       "      <td>25.63</td>\n",
       "      <td>22.75</td>\n",
       "      <td>81.56</td>\n",
       "      <td>4.15</td>\n",
       "      <td>0.57</td>\n",
       "      <td>56.50</td>\n",
       "      <td>101.19</td>\n",
       "    </tr>\n",
       "  </tbody>\n",
       "</table>\n",
       "</div>"
      ],
      "text/plain": [
       "   Rainfall    T2M  T2MWET  T2M_MAX  T2M_MIN  T2MDEW   RH2M  WS2M_MAX   \n",
       "0      8.20  26.12   24.44    26.70    25.63   22.75  81.56      4.15  \\\n",
       "1      0.72  26.96   25.01    27.42    26.15   23.05  79.19      5.38   \n",
       "2      5.68  26.15   23.98    26.62    25.89   21.82  77.00      2.18   \n",
       "3      4.25  26.02   23.74    26.38    25.80   21.47  75.94      2.73   \n",
       "4      8.20  26.12   24.44    26.70    25.63   22.75  81.56      4.15   \n",
       "\n",
       "   WS2M_MIN   WD10M      PS  \n",
       "0      0.57   56.50  101.19  \n",
       "1      4.21   47.94  101.17  \n",
       "2      0.19  158.00  101.09  \n",
       "3      0.68   87.69  101.16  \n",
       "4      0.57   56.50  101.19  "
      ]
     },
     "execution_count": 62,
     "metadata": {},
     "output_type": "execute_result"
    }
   ],
   "source": [
    "data.head()"
   ]
  },
  {
   "cell_type": "code",
   "execution_count": 63,
   "metadata": {},
   "outputs": [],
   "source": [
    "# Extract the rainfall values\n",
    "rainfall_values = data['Rainfall'].values"
   ]
  },
  {
   "cell_type": "code",
   "execution_count": 64,
   "metadata": {},
   "outputs": [],
   "source": [
    "# Normalize the data\n",
    "scaler = MinMaxScaler(feature_range=(0, 1))\n",
    "scaled_data = scaler.fit_transform(rainfall_values.reshape(-1, 1))\n"
   ]
  },
  {
   "cell_type": "code",
   "execution_count": 65,
   "metadata": {},
   "outputs": [],
   "source": [
    "# Define the sequence length and number of features\n",
    "sequence_length = 13\n",
    "n_features = 1"
   ]
  },
  {
   "cell_type": "code",
   "execution_count": 66,
   "metadata": {},
   "outputs": [],
   "source": [
    "# Create sequences and labels\n",
    "sequences = []\n",
    "labels = []\n",
    "for i in range(sequence_length, len(scaled_data)):\n",
    "    sequences.append(scaled_data[i-sequence_length:i, 0])\n",
    "    labels.append(scaled_data[i, 0])"
   ]
  },
  {
   "cell_type": "code",
   "execution_count": 67,
   "metadata": {},
   "outputs": [],
   "source": [
    "# Convert sequences and labels to NumPy arrays\n",
    "sequences = np.array(sequences)\n",
    "labels = np.array(labels)"
   ]
  },
  {
   "cell_type": "code",
   "execution_count": 68,
   "metadata": {},
   "outputs": [],
   "source": [
    "# Reshape sequences for LSTM input\n",
    "sequences = np.reshape(sequences, (sequences.shape[0], sequence_length, n_features))"
   ]
  },
  {
   "cell_type": "code",
   "execution_count": 69,
   "metadata": {},
   "outputs": [],
   "source": [
    "# Split the data into training and testing sets\n",
    "split_ratio = 0.8\n",
    "split_index = int(split_ratio * len(sequences))"
   ]
  },
  {
   "cell_type": "code",
   "execution_count": 70,
   "metadata": {},
   "outputs": [],
   "source": [
    "train_sequences = sequences[:split_index]\n",
    "train_labels = labels[:split_index]\n",
    "test_sequences = sequences[split_index:]\n",
    "test_labels = labels[split_index:]"
   ]
  },
  {
   "cell_type": "code",
   "execution_count": 71,
   "metadata": {},
   "outputs": [],
   "source": [
    "# Build the LSTM model\n",
    "model = Sequential()\n",
    "model.add(LSTM(50, return_sequences=True, input_shape=(sequence_length, n_features)))\n",
    "model.add(LSTM(50))\n",
    "model.add(Dense(1))\n"
   ]
  },
  {
   "cell_type": "code",
   "execution_count": 72,
   "metadata": {},
   "outputs": [],
   "source": [
    "# Compile the model\n",
    "model.compile(loss='mean_squared_error', optimizer='adam')"
   ]
  },
  {
   "cell_type": "code",
   "execution_count": 73,
   "metadata": {},
   "outputs": [],
   "source": [
    "# Define early stopping callback\n",
    "early_stopping = EarlyStopping(monitor='val_loss', patience=5)"
   ]
  },
  {
   "cell_type": "code",
   "execution_count": 74,
   "metadata": {},
   "outputs": [
    {
     "name": "stdout",
     "output_type": "stream",
     "text": [
      "Epoch 1/100\n",
      "386/386 [==============================] - 13s 17ms/step - loss: 0.0102 - val_loss: 8.9600e-04\n",
      "Epoch 2/100\n",
      "386/386 [==============================] - 5s 13ms/step - loss: 3.5786e-05 - val_loss: 8.9810e-04\n",
      "Epoch 3/100\n",
      "386/386 [==============================] - 5s 13ms/step - loss: 3.7360e-05 - val_loss: 9.0231e-04\n",
      "Epoch 4/100\n",
      "386/386 [==============================] - 5s 13ms/step - loss: 3.9672e-05 - val_loss: 8.9516e-04\n",
      "Epoch 5/100\n",
      "386/386 [==============================] - 5s 13ms/step - loss: 3.9180e-05 - val_loss: 8.9745e-04\n",
      "Epoch 6/100\n",
      "386/386 [==============================] - 5s 14ms/step - loss: 3.8813e-05 - val_loss: 8.9508e-04\n",
      "Epoch 7/100\n",
      "386/386 [==============================] - 6s 15ms/step - loss: 4.1326e-05 - val_loss: 8.9078e-04\n",
      "Epoch 8/100\n",
      "386/386 [==============================] - 5s 14ms/step - loss: 3.9257e-05 - val_loss: 9.9267e-04\n",
      "Epoch 9/100\n",
      "386/386 [==============================] - 6s 15ms/step - loss: 4.1435e-05 - val_loss: 8.9090e-04\n",
      "Epoch 10/100\n",
      "386/386 [==============================] - 6s 15ms/step - loss: 4.7441e-05 - val_loss: 0.0011\n",
      "Epoch 11/100\n",
      "386/386 [==============================] - 6s 15ms/step - loss: 5.2806e-05 - val_loss: 8.7566e-04\n",
      "Epoch 12/100\n",
      "386/386 [==============================] - 6s 14ms/step - loss: 4.8105e-05 - val_loss: 8.7193e-04\n",
      "Epoch 13/100\n",
      "386/386 [==============================] - 6s 15ms/step - loss: 4.4552e-05 - val_loss: 8.6760e-04\n",
      "Epoch 14/100\n",
      "386/386 [==============================] - 6s 15ms/step - loss: 4.8362e-05 - val_loss: 8.6444e-04\n",
      "Epoch 15/100\n",
      "386/386 [==============================] - 6s 15ms/step - loss: 5.2077e-05 - val_loss: 8.8297e-04\n",
      "Epoch 16/100\n",
      "386/386 [==============================] - 6s 15ms/step - loss: 5.4468e-05 - val_loss: 8.9264e-04\n",
      "Epoch 17/100\n",
      "386/386 [==============================] - 6s 15ms/step - loss: 4.4722e-05 - val_loss: 8.7874e-04\n",
      "Epoch 18/100\n",
      "386/386 [==============================] - 6s 14ms/step - loss: 5.9122e-05 - val_loss: 8.4276e-04\n",
      "Epoch 19/100\n",
      "386/386 [==============================] - 5s 14ms/step - loss: 4.1903e-05 - val_loss: 8.3863e-04\n",
      "Epoch 20/100\n",
      "386/386 [==============================] - 5s 14ms/step - loss: 5.1011e-05 - val_loss: 8.7157e-04\n",
      "Epoch 21/100\n",
      "386/386 [==============================] - 6s 15ms/step - loss: 4.8138e-05 - val_loss: 8.5334e-04\n",
      "Epoch 22/100\n",
      "386/386 [==============================] - 6s 14ms/step - loss: 4.2843e-05 - val_loss: 8.2650e-04\n",
      "Epoch 23/100\n",
      "386/386 [==============================] - 6s 15ms/step - loss: 5.0096e-05 - val_loss: 8.3732e-04\n",
      "Epoch 24/100\n",
      "386/386 [==============================] - 6s 15ms/step - loss: 4.0612e-05 - val_loss: 8.7588e-04\n",
      "Epoch 25/100\n",
      "386/386 [==============================] - 6s 15ms/step - loss: 4.5129e-05 - val_loss: 8.1455e-04\n",
      "Epoch 26/100\n",
      "386/386 [==============================] - 6s 15ms/step - loss: 4.3913e-05 - val_loss: 8.1021e-04\n",
      "Epoch 27/100\n",
      "386/386 [==============================] - 6s 15ms/step - loss: 5.0804e-05 - val_loss: 8.1137e-04\n",
      "Epoch 28/100\n",
      "386/386 [==============================] - 6s 15ms/step - loss: 3.9221e-05 - val_loss: 8.0107e-04\n",
      "Epoch 29/100\n",
      "386/386 [==============================] - 6s 15ms/step - loss: 4.1603e-05 - val_loss: 8.2539e-04\n",
      "Epoch 30/100\n",
      "386/386 [==============================] - 6s 15ms/step - loss: 4.1204e-05 - val_loss: 8.2441e-04\n",
      "Epoch 31/100\n",
      "386/386 [==============================] - 6s 15ms/step - loss: 4.2810e-05 - val_loss: 7.9231e-04\n",
      "Epoch 32/100\n",
      "386/386 [==============================] - 6s 15ms/step - loss: 4.4804e-05 - val_loss: 8.7145e-04\n",
      "Epoch 33/100\n",
      "386/386 [==============================] - 6s 15ms/step - loss: 4.1087e-05 - val_loss: 7.6559e-04\n",
      "Epoch 34/100\n",
      "386/386 [==============================] - 6s 14ms/step - loss: 4.2212e-05 - val_loss: 7.5592e-04\n",
      "Epoch 35/100\n",
      "386/386 [==============================] - 5s 14ms/step - loss: 3.7781e-05 - val_loss: 7.5316e-04\n",
      "Epoch 36/100\n",
      "386/386 [==============================] - 5s 14ms/step - loss: 4.2615e-05 - val_loss: 7.9544e-04\n",
      "Epoch 37/100\n",
      "386/386 [==============================] - 5s 14ms/step - loss: 3.6545e-05 - val_loss: 7.3904e-04\n",
      "Epoch 38/100\n",
      "386/386 [==============================] - 5s 14ms/step - loss: 4.0101e-05 - val_loss: 6.8187e-04\n",
      "Epoch 39/100\n",
      "386/386 [==============================] - 6s 15ms/step - loss: 3.4742e-05 - val_loss: 6.5962e-04\n",
      "Epoch 40/100\n",
      "386/386 [==============================] - 7s 17ms/step - loss: 3.9147e-05 - val_loss: 6.3467e-04\n",
      "Epoch 41/100\n",
      "386/386 [==============================] - 6s 16ms/step - loss: 3.1003e-05 - val_loss: 6.5070e-04\n",
      "Epoch 42/100\n",
      "386/386 [==============================] - 7s 18ms/step - loss: 3.0847e-05 - val_loss: 5.8744e-04\n",
      "Epoch 43/100\n",
      "386/386 [==============================] - 8s 20ms/step - loss: 3.1780e-05 - val_loss: 5.8199e-04\n",
      "Epoch 44/100\n",
      "386/386 [==============================] - 7s 17ms/step - loss: 3.4244e-05 - val_loss: 5.6969e-04\n",
      "Epoch 45/100\n",
      "386/386 [==============================] - 7s 17ms/step - loss: 3.1055e-05 - val_loss: 5.5997e-04\n",
      "Epoch 46/100\n",
      "386/386 [==============================] - 6s 15ms/step - loss: 2.8142e-05 - val_loss: 5.6784e-04\n",
      "Epoch 47/100\n",
      "386/386 [==============================] - 6s 15ms/step - loss: 3.0126e-05 - val_loss: 5.8933e-04\n",
      "Epoch 48/100\n",
      "386/386 [==============================] - 6s 15ms/step - loss: 3.1739e-05 - val_loss: 5.2400e-04\n",
      "Epoch 49/100\n",
      "386/386 [==============================] - 6s 15ms/step - loss: 3.0452e-05 - val_loss: 6.8201e-04\n",
      "Epoch 50/100\n",
      "386/386 [==============================] - 5s 14ms/step - loss: 2.9948e-05 - val_loss: 5.2119e-04\n",
      "Epoch 51/100\n",
      "386/386 [==============================] - 6s 16ms/step - loss: 2.9004e-05 - val_loss: 5.2299e-04\n",
      "Epoch 52/100\n",
      "386/386 [==============================] - 6s 16ms/step - loss: 2.8124e-05 - val_loss: 5.3542e-04\n",
      "Epoch 53/100\n",
      "386/386 [==============================] - 7s 18ms/step - loss: 3.3806e-05 - val_loss: 5.2181e-04\n",
      "Epoch 54/100\n",
      "386/386 [==============================] - 6s 15ms/step - loss: 2.6905e-05 - val_loss: 5.2025e-04\n",
      "Epoch 55/100\n",
      "386/386 [==============================] - 6s 15ms/step - loss: 2.9083e-05 - val_loss: 5.2490e-04\n",
      "Epoch 56/100\n",
      "386/386 [==============================] - 6s 15ms/step - loss: 3.0249e-05 - val_loss: 5.3759e-04\n",
      "Epoch 57/100\n",
      "386/386 [==============================] - 6s 15ms/step - loss: 2.9289e-05 - val_loss: 6.1930e-04\n",
      "Epoch 58/100\n",
      "386/386 [==============================] - 5s 14ms/step - loss: 2.7657e-05 - val_loss: 5.2342e-04\n",
      "Epoch 59/100\n",
      "386/386 [==============================] - 6s 15ms/step - loss: 2.7569e-05 - val_loss: 5.4891e-04\n"
     ]
    }
   ],
   "source": [
    "# Train the model and store the training history\n",
    "history = model.fit(train_sequences, train_labels, epochs=100, batch_size=32, validation_data=(test_sequences, test_labels), callbacks=[early_stopping])"
   ]
  },
  {
   "cell_type": "code",
   "execution_count": 75,
   "metadata": {},
   "outputs": [
    {
     "name": "stdout",
     "output_type": "stream",
     "text": [
      "97/97 [==============================] - 2s 6ms/step\n"
     ]
    }
   ],
   "source": [
    "# Make predictions\n",
    "predicted_labels = model.predict(test_sequences)"
   ]
  },
  {
   "cell_type": "code",
   "execution_count": 76,
   "metadata": {},
   "outputs": [],
   "source": [
    "# Inverse transform the predicted and actual labels\n",
    "predicted_labels = scaler.inverse_transform(predicted_labels)\n",
    "test_labels = scaler.inverse_transform(test_labels.reshape(-1, 1))\n"
   ]
  },
  {
   "cell_type": "code",
   "execution_count": 77,
   "metadata": {},
   "outputs": [
    {
     "name": "stdout",
     "output_type": "stream",
     "text": [
      "Mean Absolute Error (MAE): 8.062530795350467\n",
      "Root Mean Square Error (RMSE): 25.87358703718422\n"
     ]
    }
   ],
   "source": [
    "# Calculate evaluation metrics\n",
    "mae = np.mean(np.abs(predicted_labels - test_labels))\n",
    "rmse = np.sqrt(np.mean(np.square(predicted_labels - test_labels)))\n",
    "print('Mean Absolute Error (MAE):', mae)\n",
    "print('Root Mean Square Error (RMSE):', rmse)\n"
   ]
  },
  {
   "cell_type": "code",
   "execution_count": 78,
   "metadata": {},
   "outputs": [],
   "source": [
    "# Extract training and validation loss from the training history\n",
    "train_loss = history.history['loss']\n",
    "val_loss = history.history['val_loss']"
   ]
  },
  {
   "cell_type": "code",
   "execution_count": 79,
   "metadata": {},
   "outputs": [
    {
     "data": {
      "image/png": "[encoded data removed]",
      "text/plain": [
       "<Figure size 800x600 with 1 Axes>"
      ]
     },
     "metadata": {},
     "output_type": "display_data"
    }
   ],
   "source": [
    "# Plot training and validation loss\n",
    "plt.figure(figsize=(8, 6))\n",
    "plt.plot(range(1, len(train_loss) + 1), train_loss, color='blue', label='Training Loss')\n",
    "plt.plot(range(1, len(val_loss) + 1), val_loss, color='red', label='Validation Loss')\n",
    "plt.title('Training and Validation Loss over Training Epochs')\n",
    "plt.xlabel('Epoch')\n",
    "plt.ylabel('Loss')\n",
    "plt.legend()\n",
    "plt.grid(True)\n",
    "plt.show()"
   ]
  },
  {
   "cell_type": "code",
   "execution_count": 80,
   "metadata": {},
   "outputs": [],
   "source": [
    "# Define the threshold for rainfall prediction\n",
    "threshold = 0.5"
   ]
  },
  {
   "cell_type": "code",
   "execution_count": 81,
   "metadata": {},
   "outputs": [],
   "source": [
    "# Convert predicted labels to binary values based on the threshold\n",
    "binary_predicted_labels = (predicted_labels > threshold).astype(int)\n"
   ]
  },
  {
   "cell_type": "code",
   "execution_count": 82,
   "metadata": {},
   "outputs": [
    {
     "name": "stdout",
     "output_type": "stream",
     "text": [
      "Rainfall Prediction Percentage: 99.84%\n"
     ]
    }
   ],
   "source": [
    "# Calculate the percentage of rainfall predictions\n",
    "prediction_percentage = np.mean(binary_predicted_labels) * 100\n",
    "\n",
    "print(\"Rainfall Prediction Percentage: {:.2f}%\".format(prediction_percentage))"
   ]
  }
 ],
 "metadata": {
  "kernelspec": {
   "display_name": "Python 3",
   "language": "python",
   "name": "python3"
  },
  "language_info": {
   "codemirror_mode": {
    "name": "ipython",
    "version": 3
   },
   "file_extension": ".py",
   "mimetype": "text/x-python",
   "name": "python",
   "nbconvert_exporter": "python",
   "pygments_lexer": "ipython3",
   "version": "3.11.4"
  },
  "orig_nbformat": 4
 },
 "nbformat": 4,
 "nbformat_minor": 2
}
