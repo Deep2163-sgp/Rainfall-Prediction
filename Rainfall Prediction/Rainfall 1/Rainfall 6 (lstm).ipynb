{
 "cells": [
  {
   "cell_type": "code",
   "execution_count": 10,
   "metadata": {},
   "outputs": [],
   "source": [
    "import numpy as np\n",
    "import pandas as pd\n",
    "import matplotlib.pyplot as plt\n",
    "from sklearn.preprocessing import MinMaxScaler\n",
    "from sklearn.metrics import mean_squared_error\n",
    "from tensorflow.keras.models import Sequential\n",
    "from tensorflow.keras.layers import LSTM, Dense\n",
    "from keras.callbacks import EarlyStopping"
   ]
  },
  {
   "cell_type": "code",
   "execution_count": 2,
   "metadata": {},
   "outputs": [],
   "source": [
    "# Load the rainfall data\n",
    "data = pd.read_csv('Data1_Columbia.csv')"
   ]
  },
  {
   "cell_type": "code",
   "execution_count": 3,
   "metadata": {},
   "outputs": [
    {
     "data": {
      "text/html": [
       "<div>\n",
       "<style scoped>\n",
       "    .dataframe tbody tr th:only-of-type {\n",
       "        vertical-align: middle;\n",
       "    }\n",
       "\n",
       "    .dataframe tbody tr th {\n",
       "        vertical-align: top;\n",
       "    }\n",
       "\n",
       "    .dataframe thead th {\n",
       "        text-align: right;\n",
       "    }\n",
       "</style>\n",
       "<table border=\"1\" class=\"dataframe\">\n",
       "  <thead>\n",
       "    <tr style=\"text-align: right;\">\n",
       "      <th></th>\n",
       "      <th>Rainfall</th>\n",
       "      <th>T2M</th>\n",
       "      <th>T2MWET</th>\n",
       "      <th>T2M_MAX</th>\n",
       "      <th>T2M_MIN</th>\n",
       "      <th>T2MDEW</th>\n",
       "      <th>RH2M</th>\n",
       "      <th>WS2M_MAX</th>\n",
       "      <th>WS2M_MIN</th>\n",
       "      <th>WD10M</th>\n",
       "      <th>PS</th>\n",
       "    </tr>\n",
       "  </thead>\n",
       "  <tbody>\n",
       "    <tr>\n",
       "      <th>0</th>\n",
       "      <td>8.20</td>\n",
       "      <td>26.12</td>\n",
       "      <td>24.44</td>\n",
       "      <td>26.70</td>\n",
       "      <td>25.63</td>\n",
       "      <td>22.75</td>\n",
       "      <td>81.56</td>\n",
       "      <td>4.15</td>\n",
       "      <td>0.57</td>\n",
       "      <td>56.50</td>\n",
       "      <td>101.19</td>\n",
       "    </tr>\n",
       "    <tr>\n",
       "      <th>1</th>\n",
       "      <td>0.72</td>\n",
       "      <td>26.96</td>\n",
       "      <td>25.01</td>\n",
       "      <td>27.42</td>\n",
       "      <td>26.15</td>\n",
       "      <td>23.05</td>\n",
       "      <td>79.19</td>\n",
       "      <td>5.38</td>\n",
       "      <td>4.21</td>\n",
       "      <td>47.94</td>\n",
       "      <td>101.17</td>\n",
       "    </tr>\n",
       "    <tr>\n",
       "      <th>2</th>\n",
       "      <td>5.68</td>\n",
       "      <td>26.15</td>\n",
       "      <td>23.98</td>\n",
       "      <td>26.62</td>\n",
       "      <td>25.89</td>\n",
       "      <td>21.82</td>\n",
       "      <td>77.00</td>\n",
       "      <td>2.18</td>\n",
       "      <td>0.19</td>\n",
       "      <td>158.00</td>\n",
       "      <td>101.09</td>\n",
       "    </tr>\n",
       "    <tr>\n",
       "      <th>3</th>\n",
       "      <td>4.25</td>\n",
       "      <td>26.02</td>\n",
       "      <td>23.74</td>\n",
       "      <td>26.38</td>\n",
       "      <td>25.80</td>\n",
       "      <td>21.47</td>\n",
       "      <td>75.94</td>\n",
       "      <td>2.73</td>\n",
       "      <td>0.68</td>\n",
       "      <td>87.69</td>\n",
       "      <td>101.16</td>\n",
       "    </tr>\n",
       "    <tr>\n",
       "      <th>4</th>\n",
       "      <td>8.20</td>\n",
       "      <td>26.12</td>\n",
       "      <td>24.44</td>\n",
       "      <td>26.70</td>\n",
       "      <td>25.63</td>\n",
       "      <td>22.75</td>\n",
       "      <td>81.56</td>\n",
       "      <td>4.15</td>\n",
       "      <td>0.57</td>\n",
       "      <td>56.50</td>\n",
       "      <td>101.19</td>\n",
       "    </tr>\n",
       "  </tbody>\n",
       "</table>\n",
       "</div>"
      ],
      "text/plain": [
       "   Rainfall    T2M  T2MWET  T2M_MAX  T2M_MIN  T2MDEW   RH2M  WS2M_MAX   \n",
       "0      8.20  26.12   24.44    26.70    25.63   22.75  81.56      4.15  \\\n",
       "1      0.72  26.96   25.01    27.42    26.15   23.05  79.19      5.38   \n",
       "2      5.68  26.15   23.98    26.62    25.89   21.82  77.00      2.18   \n",
       "3      4.25  26.02   23.74    26.38    25.80   21.47  75.94      2.73   \n",
       "4      8.20  26.12   24.44    26.70    25.63   22.75  81.56      4.15   \n",
       "\n",
       "   WS2M_MIN   WD10M      PS  \n",
       "0      0.57   56.50  101.19  \n",
       "1      4.21   47.94  101.17  \n",
       "2      0.19  158.00  101.09  \n",
       "3      0.68   87.69  101.16  \n",
       "4      0.57   56.50  101.19  "
      ]
     },
     "execution_count": 3,
     "metadata": {},
     "output_type": "execute_result"
    }
   ],
   "source": [
    "data.head()"
   ]
  },
  {
   "cell_type": "code",
   "execution_count": 4,
   "metadata": {},
   "outputs": [],
   "source": [
    "# Preprocess the data\n",
    "scaler = MinMaxScaler(feature_range=(0, 1))\n",
    "scaled_data = scaler.fit_transform(data['Rainfall'].values.reshape(-1, 1))\n",
    "scaled_data_1d = scaled_data.reshape(-1)"
   ]
  },
  {
   "cell_type": "code",
   "execution_count": 5,
   "metadata": {},
   "outputs": [],
   "source": [
    "# Split the data into train and test sets\n",
    "train_size = int(len(data) * 0.8)\n",
    "train_data = scaled_data[:train_size]\n",
    "test_data = scaled_data[train_size:]\n"
   ]
  },
  {
   "cell_type": "code",
   "execution_count": 6,
   "metadata": {},
   "outputs": [],
   "source": [
    "# Define a function to create the dataset\n",
    "def create_dataset(data, look_back=1):\n",
    "    X, Y = [], []\n",
    "    for i in range(len(data)-look_back):\n",
    "        X.append(data[i:i+look_back, 0])\n",
    "        Y.append(data[i+look_back, 0])\n",
    "    return np.array(X), np.array(Y)"
   ]
  },
  {
   "cell_type": "code",
   "execution_count": 7,
   "metadata": {},
   "outputs": [],
   "source": [
    "# Create the dataset\n",
    "look_back = 10  # number of previous time steps to use for prediction\n",
    "train_X, train_Y = create_dataset(train_data, look_back)\n",
    "test_X, test_Y = create_dataset(test_data, look_back)"
   ]
  },
  {
   "cell_type": "code",
   "execution_count": 8,
   "metadata": {},
   "outputs": [],
   "source": [
    "\n",
    "# Reshape the input data to be in the form [samples, time steps, features]\n",
    "train_X = np.reshape(train_X, (train_X.shape[0], train_X.shape[1], 1))\n",
    "test_X = np.reshape(test_X, (test_X.shape[0], test_X.shape[1], 1))\n"
   ]
  },
  {
   "cell_type": "code",
   "execution_count": 9,
   "metadata": {},
   "outputs": [],
   "source": [
    "# Build the LSTM model\n",
    "model = Sequential()\n",
    "model.add(LSTM(50, input_shape=(look_back, 1)))\n",
    "model.add(Dense(1))\n",
    "model.compile(loss='mean_squared_error', optimizer='adam')"
   ]
  },
  {
   "cell_type": "code",
   "execution_count": 13,
   "metadata": {},
   "outputs": [
    {
     "name": "stdout",
     "output_type": "stream",
     "text": [
      "Epoch 1/10\n",
      "12325/12325 - 22s - loss: 5.3092e-04 - 22s/epoch - 2ms/step\n",
      "Epoch 2/10\n",
      "12325/12325 - 21s - loss: 6.0802e-05 - 21s/epoch - 2ms/step\n",
      "Epoch 3/10\n",
      "12325/12325 - 20s - loss: 4.8440e-05 - 20s/epoch - 2ms/step\n",
      "Epoch 4/10\n",
      "12325/12325 - 21s - loss: 4.2449e-05 - 21s/epoch - 2ms/step\n",
      "Epoch 5/10\n",
      "12325/12325 - 23s - loss: 4.2173e-05 - 23s/epoch - 2ms/step\n",
      "Epoch 6/10\n",
      "12325/12325 - 20s - loss: 3.9779e-05 - 20s/epoch - 2ms/step\n",
      "Epoch 7/10\n",
      "12325/12325 - 19s - loss: 3.8550e-05 - 19s/epoch - 2ms/step\n",
      "Epoch 8/10\n",
      "12325/12325 - 20s - loss: 3.7743e-05 - 20s/epoch - 2ms/step\n",
      "Epoch 9/10\n",
      "12325/12325 - 21s - loss: 3.6673e-05 - 21s/epoch - 2ms/step\n",
      "Epoch 10/10\n",
      "12325/12325 - 23s - loss: 3.5930e-05 - 23s/epoch - 2ms/step\n"
     ]
    },
    {
     "data": {
      "text/plain": [
       "<keras.callbacks.History at 0x1cd7dfac510>"
      ]
     },
     "execution_count": 13,
     "metadata": {},
     "output_type": "execute_result"
    }
   ],
   "source": [
    "# Train the model\n",
    "model.fit(train_X, train_Y, epochs=10, batch_size=1, verbose=2)\n"
   ]
  },
  {
   "cell_type": "code",
   "execution_count": 14,
   "metadata": {},
   "outputs": [
    {
     "name": "stdout",
     "output_type": "stream",
     "text": [
      "386/386 [==============================] - 1s 1ms/step\n",
      "97/97 [==============================] - 0s 1ms/step\n"
     ]
    }
   ],
   "source": [
    "# Make predictions\n",
    "train_predictions = model.predict(train_X)\n",
    "test_predictions = model.predict(test_X)"
   ]
  },
  {
   "cell_type": "code",
   "execution_count": 15,
   "metadata": {},
   "outputs": [],
   "source": [
    "# Inverse scale the predictions\n",
    "train_predictions = scaler.inverse_transform(train_predictions)\n",
    "test_predictions = scaler.inverse_transform(test_predictions)\n",
    "train_Y = scaler.inverse_transform([train_Y])\n",
    "test_Y = scaler.inverse_transform([test_Y])"
   ]
  },
  {
   "cell_type": "code",
   "execution_count": 16,
   "metadata": {},
   "outputs": [
    {
     "name": "stdout",
     "output_type": "stream",
     "text": [
      "Train MSE: 34.193931074178714\n",
      "Train RMSE: 5.8475577016544875\n",
      "Test MSE: 716.732370159349\n",
      "Test RMSE: 26.771857801791587\n"
     ]
    }
   ],
   "source": [
    "# Calculate MSE and RMSE\n",
    "train_mse = mean_squared_error(train_Y[0], train_predictions[:, 0])\n",
    "train_rmse = np.sqrt(train_mse)\n",
    "test_mse = mean_squared_error(test_Y[0], test_predictions[:, 0])\n",
    "test_rmse = np.sqrt(test_mse)\n",
    "\n",
    "print(\"Train MSE:\", train_mse)\n",
    "print(\"Train RMSE:\", train_rmse)\n",
    "print(\"Test MSE:\", test_mse)\n",
    "print(\"Test RMSE:\", test_rmse)"
   ]
  },
  {
   "cell_type": "code",
   "execution_count": 35,
   "metadata": {},
   "outputs": [],
   "source": [
    "# Set the threshold value\n",
    "threshold = 3.0"
   ]
  },
  {
   "cell_type": "code",
   "execution_count": 36,
   "metadata": {},
   "outputs": [
    {
     "name": "stdout",
     "output_type": "stream",
     "text": [
      "Train Prediction Percentage: 93.56592292089249\n",
      "Test Prediction Percentage: 92.16005204944697\n"
     ]
    }
   ],
   "source": [
    "# Calculate prediction percentage\n",
    "train_percentage = np.sum(train_predictions > threshold) / len(train_predictions) * 100\n",
    "test_percentage = np.sum(test_predictions > threshold) / len(test_predictions) * 100\n",
    "\n",
    "print(\"Train Prediction Percentage:\", train_percentage)\n",
    "print(\"Test Prediction Percentage:\", test_percentage)\n"
   ]
  },
  {
   "cell_type": "code",
   "execution_count": 37,
   "metadata": {},
   "outputs": [
    {
     "data": {
      "image/png": "[encoded data removed]",
      "text/plain": [
       "<Figure size 640x480 with 1 Axes>"
      ]
     },
     "metadata": {},
     "output_type": "display_data"
    }
   ],
   "source": [
    "# Plot the predicted values and actual values\n",
    "plt.plot(train_predictions[:, 0], label='Train Predictions')\n",
    "plt.plot(test_predictions[:, 0], label='Test Predictions')\n",
    "plt.legend()\n",
    "plt.show()"
   ]
  }
 ],
 "metadata": {
  "kernelspec": {
   "display_name": "Python 3",
   "language": "python",
   "name": "python3"
  },
  "language_info": {
   "codemirror_mode": {
    "name": "ipython",
    "version": 3
   },
   "file_extension": ".py",
   "mimetype": "text/x-python",
   "name": "python",
   "nbconvert_exporter": "python",
   "pygments_lexer": "ipython3",
   "version": "3.11.4"
  },
  "orig_nbformat": 4
 },
 "nbformat": 4,
 "nbformat_minor": 2
}
