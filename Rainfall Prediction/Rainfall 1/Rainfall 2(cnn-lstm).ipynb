{
 "cells": [
  {
   "cell_type": "code",
   "execution_count": 3,
   "metadata": {},
   "outputs": [],
   "source": [
    "import numpy as np\n",
    "import pandas as pd\n",
    "from sklearn.preprocessing import MinMaxScaler\n",
    "from sklearn.model_selection import train_test_split\n",
    "from tensorflow.keras.models import Sequential\n",
    "from tensorflow.keras.layers import Conv2D, LSTM, Dropout, Dense\n",
    "from tensorflow.keras.callbacks import EarlyStopping\n",
    "import matplotlib.pyplot as plt\n"
   ]
  },
  {
   "cell_type": "code",
   "execution_count": 4,
   "metadata": {},
   "outputs": [],
   "source": [
    "# Load and preprocess the data\n",
    "data = pd.read_csv('Data1_Columbia.csv')\n",
    "scaler = MinMaxScaler(feature_range=(0, 1))\n",
    "scaled_data = scaler.fit_transform(data)"
   ]
  },
  {
   "cell_type": "code",
   "execution_count": 5,
   "metadata": {},
   "outputs": [],
   "source": [
    "# Split data into input (X) and output (y) variables\n",
    "sequence_length = 10  # Length of the input sequence\n",
    "X = []\n",
    "y = []\n",
    "for i in range(len(scaled_data) - sequence_length):\n",
    "    X.append(scaled_data[i:i+sequence_length])\n",
    "    y.append(scaled_data[i+sequence_length])\n",
    "X = np.array(X)\n",
    "y = np.array(y)"
   ]
  },
  {
   "cell_type": "code",
   "execution_count": 6,
   "metadata": {},
   "outputs": [],
   "source": [
    "# Split the data into training and testing sets\n",
    "X_train, X_test, y_train, y_test = train_test_split(X, y, test_size=0.2, random_state=42)"
   ]
  },
  {
   "cell_type": "code",
   "execution_count": 7,
   "metadata": {},
   "outputs": [],
   "source": [
    "# Build the model\n",
    "model = Sequential()\n",
    "model.add(LSTM(64, input_shape=(X_train.shape[1], X_train.shape[2])))\n",
    "model.add(Dropout(0.2))\n",
    "model.add(Dense(1, activation='linear'))"
   ]
  },
  {
   "cell_type": "code",
   "execution_count": 44,
   "metadata": {},
   "outputs": [
    {
     "name": "stdout",
     "output_type": "stream",
     "text": [
      "Model: \"sequential\"\n",
      "_________________________________________________________________\n",
      " Layer (type)                Output Shape              Param #   \n",
      "=================================================================\n",
      " lstm (LSTM)                 (None, 64)                19456     \n",
      "                                                                 \n",
      " dropout (Dropout)           (None, 64)                0         \n",
      "                                                                 \n",
      " dense (Dense)               (None, 1)                 65        \n",
      "                                                                 \n",
      "=================================================================\n",
      "Total params: 19,521\n",
      "Trainable params: 19,521\n",
      "Non-trainable params: 0\n",
      "_________________________________________________________________\n"
     ]
    }
   ],
   "source": [
    "model.summary()"
   ]
  },
  {
   "cell_type": "code",
   "execution_count": 8,
   "metadata": {},
   "outputs": [],
   "source": [
    "# Compile the model\n",
    "model.compile(loss='mean_squared_error', optimizer='adam')"
   ]
  },
  {
   "cell_type": "code",
   "execution_count": 9,
   "metadata": {},
   "outputs": [],
   "source": [
    "# Define early stopping criteria\n",
    "early_stopping = EarlyStopping(monitor='val_loss', patience=5, verbose=1)"
   ]
  },
  {
   "cell_type": "code",
   "execution_count": 25,
   "metadata": {},
   "outputs": [
    {
     "name": "stdout",
     "output_type": "stream",
     "text": [
      "Epoch 1/15\n",
      "386/386 [==============================] - 4s 11ms/step - loss: 0.0020 - val_loss: 0.0019\n",
      "Epoch 2/15\n",
      "386/386 [==============================] - 4s 9ms/step - loss: 0.0020 - val_loss: 0.0019\n",
      "Epoch 3/15\n",
      "386/386 [==============================] - 4s 9ms/step - loss: 0.0020 - val_loss: 0.0019\n",
      "Epoch 4/15\n",
      "386/386 [==============================] - 4s 9ms/step - loss: 0.0020 - val_loss: 0.0019\n",
      "Epoch 5/15\n",
      "386/386 [==============================] - 3s 9ms/step - loss: 0.0020 - val_loss: 0.0019\n",
      "Epoch 6/15\n",
      "386/386 [==============================] - 3s 9ms/step - loss: 0.0020 - val_loss: 0.0019\n",
      "Epoch 7/15\n",
      "386/386 [==============================] - 3s 9ms/step - loss: 0.0020 - val_loss: 0.0019\n",
      "Epoch 8/15\n",
      "386/386 [==============================] - 3s 9ms/step - loss: 0.0020 - val_loss: 0.0019\n",
      "Epoch 9/15\n",
      "386/386 [==============================] - 3s 9ms/step - loss: 0.0020 - val_loss: 0.0019\n",
      "Epoch 9: early stopping\n"
     ]
    }
   ],
   "source": [
    "# Fit the model and store the training history\n",
    "history = model.fit(X_train, y_train, epochs=15, batch_size=32, validation_data=(X_test, y_test), callbacks=[early_stopping])"
   ]
  },
  {
   "cell_type": "code",
   "execution_count": 26,
   "metadata": {},
   "outputs": [],
   "source": [
    "# Evaluate the model\n",
    "train_loss = model.evaluate(X_train, y_train, verbose=0)\n",
    "test_loss = model.evaluate(X_test, y_test, verbose=0)"
   ]
  },
  {
   "cell_type": "code",
   "execution_count": 27,
   "metadata": {},
   "outputs": [
    {
     "name": "stdout",
     "output_type": "stream",
     "text": [
      "Train Loss: 0.0019789596553891897\n",
      "Test Loss: 0.0018859750125557184\n"
     ]
    }
   ],
   "source": [
    "print(\"Train Loss:\", train_loss)\n",
    "print(\"Test Loss:\", test_loss)"
   ]
  },
  {
   "cell_type": "code",
   "execution_count": 39,
   "metadata": {},
   "outputs": [
    {
     "name": "stdout",
     "output_type": "stream",
     "text": [
      "97/97 [==============================] - 0s 3ms/step\n"
     ]
    }
   ],
   "source": [
    "# Make predictions\n",
    "predictions = model.predict(X_test)"
   ]
  },
  {
   "cell_type": "code",
   "execution_count": 40,
   "metadata": {},
   "outputs": [
    {
     "name": "stdout",
     "output_type": "stream",
     "text": [
      "Predicted rainfall: [0.9802589]\n",
      "Actual rainfall: [[0.90462263 0.99797038 0.9977223  0.99808721 0.99798912 0.99669513\n",
      "  0.98258478 0.98795335 0.99132297 0.93689299 0.99958203]\n",
      " [0.90469507 0.99873756 0.99827712 0.99897078 0.99854284 0.9970071\n",
      "  0.98086159 0.98942342 0.99269146 0.9244682  0.99959111]\n",
      " [0.90494861 0.99847536 0.99865674 0.99872804 0.99845541 0.99805023\n",
      "  0.98636114 0.99002526 0.99416904 0.94982778 0.99960929]\n",
      " [0.90470412 0.998252   0.99875408 0.99819402 0.99840684 0.99845968\n",
      "  0.98900092 0.99033111 0.99478387 0.96304345 0.99949116]\n",
      " [0.90463168 0.99834911 0.99848153 0.99836879 0.9984457  0.99783575\n",
      "  0.98584785 0.98998579 0.99347488 0.96752258 0.99948208]\n",
      " [0.90463168 0.99859189 0.9984426  0.99866979 0.99868856 0.99750429\n",
      "  0.98350137 0.98899917 0.99317738 0.9441956  0.99956385]\n",
      " [0.90462263 0.99841709 0.99849126 0.99850472 0.99862056 0.99777726\n",
      "  0.98538955 0.98925569 0.99315755 0.92326341 0.9995366 ]\n",
      " [0.90462263 0.99843651 0.99867621 0.9984853  0.99855255 0.99812822\n",
      "  0.98676444 0.98936422 0.99376246 0.92728428 0.99950934]\n",
      " [0.90464979 0.99878611 0.99902662 0.99884456 0.99882456 0.99847918\n",
      "  0.98681943 0.99026205 0.99414921 0.93629429 0.9994639 ]\n",
      " [0.90467696 0.99876669 0.99920183 0.99882514 0.99899942 0.99885938\n",
      "  0.98859762 0.99061723 0.99501195 0.93684864 0.99952751]]\n",
      "Predicted rainfall: [0.9791196]\n",
      "Actual rainfall: [[0.90782813 0.99800923 0.99836472 0.99838821 0.9979114  0.99794299\n",
      "  0.98780018 0.99036071 0.99282038 0.91412036 0.99940939]\n",
      " [0.91491828 0.99748483 0.99803378 0.99767941 0.99718282 0.9978065\n",
      "  0.98945921 0.99118947 0.9946847  0.93915473 0.99939121]\n",
      " [0.90963915 0.99760136 0.99758602 0.99794157 0.99713425 0.99678287\n",
      "  0.98452796 0.99089348 0.99346496 0.93846734 0.99945482]\n",
      " [0.91048128 0.99741685 0.99785857 0.99761144 0.99761026 0.99751404\n",
      "  0.98843263 0.98968981 0.99316746 0.90802253 0.99941847]\n",
      " [0.90996514 0.99837825 0.99838419 0.99861153 0.99802798 0.99759203\n",
      "  0.98476627 0.99233395 0.99556728 0.94095821 0.99937304]\n",
      " [0.90994703 0.99814518 0.99822845 0.99833966 0.99798912 0.99752379\n",
      "  0.98538955 0.99215636 0.9954582  0.96350171 0.99932761]\n",
      " [0.90584507 0.99809663 0.99849126 0.99812605 0.99818341 0.99809897\n",
      "  0.98813932 0.99037058 0.99408971 0.97597824 0.99931852]\n",
      " [0.90905057 0.99765963 0.9984426  0.99770854 0.99773655 0.99844018\n",
      "  0.99157654 0.99045937 0.99411946 0.93971647 0.99937304]\n",
      " [0.90922262 0.99713523 0.99764442 0.9976697  0.99704682 0.99735806\n",
      "  0.98900092 0.99048897 0.99328646 0.9115334  0.99934578]\n",
      " [0.913723   0.99754309 0.99782937 0.99762115 0.9976394  0.99732881\n",
      "  0.98711274 0.9904791  0.9925328  0.91804515 0.99930035]]\n",
      "Predicted rainfall: [0.979879]\n",
      "Actual rainfall: [[0.90718522 0.99743627 0.99819925 0.99743667 0.9975034  0.99816721\n",
      "  0.99134739 0.99072576 0.99509128 0.91721732 0.99961837]\n",
      " [0.9076742  0.99731003 0.99806298 0.99729103 0.99741597 0.99802098\n",
      "  0.9911824  0.99024231 0.99415912 0.92137124 0.99970924]\n",
      " [0.90677774 0.99716436 0.9979267  0.99735899 0.99717311 0.99790399\n",
      "  0.99134739 0.99076522 0.99415912 0.92715124 0.99967289]\n",
      " [0.90796396 0.99727118 0.99800457 0.99760173 0.99727025 0.99796249\n",
      "  0.9911824  0.99179131 0.99544828 0.91504427 0.99960929]\n",
      " [0.91205687 0.99760136 0.99828685 0.99759202 0.99775597 0.99819646\n",
      "  0.99072411 0.99241288 0.99549786 0.92834863 0.99955477]\n",
      " [0.91543442 0.99738772 0.99810191 0.99750464 0.9972994  0.99804048\n",
      "  0.99094409 0.99326138 0.99704485 0.92876255 0.99950934]\n",
      " [0.91915606 0.99706725 0.9977223  0.99709683 0.99725083 0.99760178\n",
      "  0.9903758  0.99439599 0.99860176 0.92502254 0.99949116]\n",
      " [0.91865803 0.9970284  0.99773203 0.99774738 0.99579367 0.99765052\n",
      "  0.99088909 0.99386321 0.99571603 0.93670821 0.99945482]\n",
      " [0.91082537 0.99726147 0.99776123 0.99761144 0.99626967 0.99747504\n",
      "  0.98900092 0.99291606 0.99652919 0.93444646 0.99948208]\n",
      " [0.91432064 0.99732945 0.99795591 0.99749493 0.99675539 0.99779676\n",
      "  0.99014665 0.99155452 0.99571603 0.93005603 0.99951842]]\n",
      "Predicted rainfall: [0.96896833]\n",
      "Actual rainfall: [[0.90564586 0.99636805 0.99652504 0.99637832 0.9965611  0.99589573\n",
      "  0.98579285 0.98988713 0.99285013 0.85244726 0.99937304]\n",
      " [0.90560963 0.99634863 0.99643744 0.9966599  0.99611424 0.99574949\n",
      "  0.98522456 0.98960101 0.9923543  0.96479519 0.99938213]\n",
      " [0.90542853 0.99682447 0.99692413 0.99684438 0.99680396 0.99623694\n",
      "  0.98538955 0.99012392 0.99396079 0.95897823 0.99932761]\n",
      " [0.90514782 0.99717407 0.99690466 0.99730074 0.99721197 0.99583723\n",
      "  0.98223648 0.9891077  0.99335588 0.96840215 0.99938213]\n",
      " [0.90468601 0.99689245 0.99685599 0.9969609  0.99705654 0.99603221\n",
      "  0.98424381 0.98917676 0.99330629 0.97177258 0.99944573]\n",
      " [0.90596278 0.99652343 0.99678785 0.99668903 0.99657082 0.99626618\n",
      "  0.98676444 0.9890189  0.99295921 0.97112954 0.99947299]\n",
      " [0.90664192 0.9961447  0.99677812 0.99628123 0.9962891  0.99661714\n",
      "  0.9899725  0.98948262 0.99319721 0.92382515 0.99944573]\n",
      " [0.90566397 0.9960573  0.99657371 0.99619384 0.99614338 0.99631493\n",
      "  0.98900092 0.98973914 0.99305838 0.75183674 0.9994639 ]\n",
      " [0.90470412 0.99645545 0.99672945 0.99659194 0.99648339 0.99621744\n",
      "  0.98688359 0.99051857 0.99440704 0.75054326 0.99950025]\n",
      " [0.90544664 0.99624181 0.99668078 0.9962521  0.99625024 0.99633443\n",
      "  0.98825848 0.9906271  0.99379221 0.75913196 0.9995366 ]]\n",
      "Predicted rainfall: [0.9807342]\n",
      "Actual rainfall: [[0.90826278 0.99686332 0.99734268 0.99683467 0.99702739 0.99703634\n",
      "  0.98871677 0.99216623 0.99627136 0.97842476 0.9994639 ]\n",
      " [0.91421198 0.99682447 0.99725507 0.99680555 0.99706625 0.99689986\n",
      "  0.98825848 0.99203797 0.99601353 0.97454433 0.99947299]\n",
      " [0.90679585 0.99683418 0.99745948 0.99701916 0.99693025 0.99729956\n",
      "  0.99009166 0.99189984 0.99576561 0.96798084 0.99947299]\n",
      " [0.90489428 0.99693129 0.9971188  0.99700945 0.99708568 0.99651965\n",
      "  0.98614115 0.99245235 0.99709444 0.95597735 0.99954568]\n",
      " [0.90550097 0.99705754 0.99744002 0.99707741 0.99725083 0.99702659\n",
      "  0.98785518 0.99200837 0.99610278 0.95588127 0.99949116]\n",
      " [0.90541948 0.99722263 0.99752762 0.99733957 0.99721197 0.99704609\n",
      "  0.98722273 0.99333044 0.99659861 0.95259952 0.99954568]\n",
      " [0.90530176 0.99722263 0.99726481 0.9973687  0.99705654 0.99651965\n",
      "  0.98493126 0.9941592  0.9972531  0.96922997 0.99957294]\n",
      " [0.90747499 0.99721292 0.99749842 0.99714538 0.99740626 0.9970071\n",
      "  0.98705775 0.99360669 0.99699527 0.95749996 0.99952751]\n",
      " [0.90899624 0.99679534 0.99725507 0.99685409 0.99694968 0.99691936\n",
      "  0.98848763 0.99393228 0.99768943 0.9522817  0.99950934]\n",
      " [0.90602617 0.99692158 0.9970896  0.99727161 0.99681368 0.99646116\n",
      "  0.985967   0.99284699 0.99727293 0.94520821 0.9994639 ]]\n",
      "Predicted rainfall: [0.98075]\n",
      "Actual rainfall: [[0.90464074 0.99682447 0.99615516 0.99681526 0.99696911 0.99470636\n",
      "  0.97902841 0.99139666 0.99302863 0.96669475 0.9995366 ]\n",
      " [0.90476751 0.99673707 0.99632063 0.99676671 0.99691082 0.99511582\n",
      "  0.98098075 0.98905837 0.99290963 0.96955519 0.99960929]\n",
      " [0.90551908 0.99681476 0.99688519 0.99673758 0.99705654 0.99616869\n",
      "  0.9851604  0.99009432 0.99405004 0.96955519 0.99970924]\n",
      " [0.90986553 0.99689245 0.99746922 0.99689293 0.99705654 0.99727032\n",
      "  0.98963336 0.99169265 0.99514087 0.96793649 0.99964563]\n",
      " [0.90848916 0.99698956 0.99746922 0.99694148 0.99722168 0.99717283\n",
      "  0.98877177 0.99113027 0.99479378 0.95980605 0.99957294]\n",
      " [0.90920451 0.99692158 0.99745948 0.99703858 0.99700797 0.99722157\n",
      "  0.98934922 0.9919689  0.99487312 0.95980605 0.99960929]\n",
      " [0.91014624 0.9972906  0.9978099  0.99729103 0.99739654 0.99754328\n",
      "  0.98911091 0.99320218 0.99617219 0.94395908 0.99955477]\n",
      " [0.91517182 0.99714494 0.99782937 0.99718422 0.99717311 0.99772851\n",
      "  0.99060495 0.9934587  0.99764977 0.93403255 0.99950934]\n",
      " [0.91118758 0.99658169 0.99768336 0.99666961 0.99667768 0.99800148\n",
      "  0.99450046 0.99382375 0.99619203 0.94613213 0.99952751]\n",
      " [0.90782813 0.99636805 0.99722587 0.99681526 0.9962891  0.99728981\n",
      "  0.99215399 0.99209716 0.99549786 0.94613213 0.99959111]]\n",
      "Predicted rainfall: [0.97977686]\n",
      "Actual rainfall: [[0.93623398 0.99697985 0.99810191 0.99739783 0.99674568 0.99843043\n",
      "  0.9947846  0.9941888  0.99392112 0.92843733 0.99925492]\n",
      " [0.91466473 0.99764992 0.99845233 0.99784447 0.99753254 0.99846943\n",
      "  0.99180568 0.99469198 0.9969556  0.92405428 0.99929126]\n",
      " [0.90991081 0.99806749 0.99869567 0.99804837 0.99821255 0.99853767\n",
      "  0.99020165 0.9928174  0.99714402 0.92395819 0.99930944]\n",
      " [0.91199348 0.99829085 0.99883195 0.99829111 0.99827084 0.99857667\n",
      "  0.98940422 0.99347843 0.99788776 0.93042559 0.99937304]\n",
      " [0.91308009 0.99819374 0.99880274 0.99822315 0.99832912 0.99860591\n",
      "  0.9900275  0.99365602 0.99727293 0.92959776 0.99941847]\n",
      " [0.92030606 0.99809663 0.99876381 0.99808721 0.99827084 0.9986644\n",
      "  0.99065995 0.99391255 0.99776876 0.93079516 0.9994003 ]\n",
      " [0.92410015 0.99769847 0.99852047 0.99785418 0.99761026 0.99854742\n",
      "  0.99192484 0.99560953 0.99837368 0.93486038 0.99943665]\n",
      " [0.92057772 0.99800923 0.99835499 0.99815518 0.99764912 0.99791374\n",
      "  0.98768103 0.99489917 0.99897859 0.93735864 0.9994639 ]\n",
      " [0.92394621 0.99778587 0.99808245 0.99798041 0.99778512 0.99759203\n",
      "  0.98722273 0.99478077 0.99825468 0.93435038 0.9995366 ]\n",
      " [0.90858876 0.99779558 0.99814085 0.99819402 0.99732854 0.99770902\n",
      "  0.98773602 0.99387308 0.99746135 0.93028516 0.99950025]]\n",
      "Predicted rainfall: [0.97645336]\n",
      "Actual rainfall: [[0.90986553 0.99817431 0.99867621 0.99815518 0.99829998 0.99840119\n",
      "  0.98911091 0.99060736 0.99411946 0.8321729  0.99936395]\n",
      " [0.91528954 0.99768876 0.99836472 0.99799983 0.99767826 0.9982647\n",
      "  0.99060495 0.98969967 0.99264188 0.88589294 0.9994003 ]\n",
      " [0.92246118 0.99784414 0.99845233 0.99796099 0.99789198 0.9982842\n",
      "  0.99009166 0.98994633 0.99278071 0.93112037 0.99935487]\n",
      " [0.91530765 0.99766934 0.99824792 0.99798041 0.99730911 0.99804048\n",
      "  0.98968836 0.989749   0.99297905 0.93712951 0.99942756]\n",
      " [0.91421198 0.99740714 0.99761522 0.99749493 0.99698854 0.99703634\n",
      "  0.98636114 0.99000553 0.99168989 0.91467471 0.9994003 ]\n",
      " [0.91334269 0.99692158 0.99755682 0.99765999 0.99650282 0.9974068\n",
      "  0.99020165 0.98949248 0.99231463 0.83655594 0.99943665]\n",
      " [0.90808168 0.99784414 0.99834526 0.99798041 0.99787255 0.99806972\n",
      "  0.98911091 0.98988713 0.99320713 0.85337118 0.99947299]\n",
      " [0.90804546 0.99787327 0.99854967 0.99795128 0.99796969 0.99843043\n",
      "  0.99060495 0.98981807 0.99376246 0.86297988 0.99951842]\n",
      " [0.91898402 0.99709638 0.99751789 0.99771825 0.99703711 0.99715333\n",
      "  0.98819432 0.98858479 0.99127339 0.87499076 0.99959111]\n",
      " [0.90916829 0.99740714 0.99739135 0.99761144 0.99727997 0.9965879\n",
      "  0.98447296 0.98858479 0.99089656 0.87762946 0.99947299]]\n",
      "Predicted rainfall: [0.9802036]\n",
      "Actual rainfall: [[0.92219858 0.99632921 0.99722587 0.99640745 0.99647367 0.99733856\n",
      "  0.99261228 0.99121907 0.99375254 0.95749996 0.99963655]\n",
      " [0.92351157 0.99612527 0.99709933 0.9962521  0.99612396 0.99728981\n",
      "  0.99329973 0.99146572 0.99369304 0.9345869  0.99962746]\n",
      " [0.90629782 0.99705754 0.99774176 0.9976697  0.99650282 0.99764077\n",
      "  0.99060495 0.99260034 0.99543836 0.9276095  0.99947299]\n",
      " [0.92598361 0.99731974 0.99804351 0.99760173 0.9972314  0.99798198\n",
      "  0.99094409 0.99192944 0.9946847  0.9254808  0.99950025]\n",
      " [0.94911034 0.99656227 0.99742055 0.99684438 0.99645425 0.99749454\n",
      "  0.99226398 0.99257074 0.99440704 0.93107603 0.99970015]\n",
      " [0.91764386 0.99709638 0.99751789 0.99718422 0.99714397 0.99715333\n",
      "  0.98819432 0.99209716 0.99331621 0.96304345 0.99968198]\n",
      " [0.90656042 0.99747512 0.99750815 0.99761144 0.99731883 0.99675363\n",
      "  0.98487626 0.9891965  0.99310796 0.97112954 0.99949116]\n",
      " [0.91141395 0.99728089 0.99787804 0.99742696 0.9973674  0.99769927\n",
      "  0.98991751 0.989897   0.99375254 0.94627256 0.99940939]\n",
      " [0.90736632 0.9971158  0.99788777 0.99722306 0.99707597 0.99787475\n",
      "  0.99146654 0.99038044 0.9942087  0.93846734 0.99940939]\n",
      " [0.9046679  0.99753338 0.99785857 0.99773767 0.99744511 0.9973873\n",
      "  0.98745188 0.9906271  0.9949227  0.93670821 0.99941847]]\n",
      "Predicted rainfall: [0.9809545]\n",
      "Actual rainfall: [[0.90460452 0.99634863 0.99661264 0.99640745 0.99648339 0.99610045\n",
      "  0.98681943 0.98984767 0.99320713 0.93079516 0.99956385]\n",
      " [0.90462263 0.99640689 0.99646664 0.99637832 0.9965611  0.99573\n",
      "  0.98493126 0.98962074 0.99258238 0.94710778 0.99956385]\n",
      " [0.90461357 0.99641661 0.99602862 0.996456   0.99650282 0.9948526\n",
      "  0.9812099  0.98815068 0.99136264 0.84279421 0.9996002 ]\n",
      " [0.90460452 0.99640689 0.99608702 0.99662106 0.99636682 0.99496958\n",
      "  0.98177819 0.98726272 0.99122381 0.97537215 0.99970015]\n",
      " [0.90460452 0.99658169 0.99625249 0.99673758 0.99655139 0.99512557\n",
      "  0.98166819 0.98791389 0.99158081 0.97417476 0.9997365 ]\n",
      " [0.90461357 0.99667881 0.99664185 0.99670845 0.99692054 0.99581774\n",
      "  0.98418882 0.98892024 0.99233447 0.96378258 0.99974558]\n",
      " [0.90503011 0.99635834 0.99683652 0.99644629 0.99643482 0.9965294\n",
      "  0.98865261 0.98961088 0.99316746 0.97750085 0.99970924]\n",
      " [0.90478562 0.99633892 0.99669051 0.99644629 0.9962891  0.99627593\n",
      "  0.98762603 0.98881171 0.99149156 0.85609857 0.99965472]\n",
      " [0.90478562 0.9960573  0.99626223 0.99620355 0.9962211  0.99570075\n",
      "  0.98630614 0.98797308 0.99138247 0.80994723 0.9996638 ]\n",
      " [0.90507538 0.99639718 0.99650557 0.99649484 0.99650282 0.99582748\n",
      "  0.98538955 0.98841706 0.99248322 0.97782607 0.99970015]]\n"
     ]
    }
   ],
   "source": [
    "# Print some example predictions and actual values\n",
    "for i in range(10):\n",
    "    print(\"Predicted rainfall:\", predictions[i])\n",
    "    print(\"Actual rainfall:\", X_test[i])"
   ]
  },
  {
   "cell_type": "code",
   "execution_count": 41,
   "metadata": {},
   "outputs": [
    {
     "name": "stdout",
     "output_type": "stream",
     "text": [
      "Overall Rainfall Accuracy: 96.81%\n"
     ]
    }
   ],
   "source": [
    "# Calculate Mean Absolute Percentage Error (MAPE)\n",
    "mape = np.mean(np.abs((y_test - predictions) / y_test)) * 100\n",
    "accuracy = 100 - mape\n",
    "\n",
    "print(\"Overall Rainfall Accuracy: {:.2f}%\".format(accuracy))"
   ]
  },
  {
   "cell_type": "code",
   "execution_count": 42,
   "metadata": {},
   "outputs": [
    {
     "data": {
      "image/png": "[encoded data removed]",
      "text/plain": [
       "<Figure size 640x480 with 1 Axes>"
      ]
     },
     "metadata": {},
     "output_type": "display_data"
    }
   ],
   "source": [
    "import matplotlib.pyplot as plt\n",
    "\n",
    "# Access the training history\n",
    "train_loss = history.history['loss']\n",
    "val_loss = history.history['val_loss']\n",
    "\n",
    "# Plotting the graph\n",
    "epochs = range(1, len(train_loss) + 1)\n",
    "plt.plot(epochs, train_loss, 'b', label='Training Loss')\n",
    "plt.plot(epochs, val_loss, 'r', label='Validation Loss')\n",
    "plt.title('Training and Validation Loss')\n",
    "plt.xlabel('Epochs')\n",
    "plt.ylabel('Loss')\n",
    "plt.legend()\n",
    "plt.grid(True)\n",
    "plt.show()\n"
   ]
  },
  {
   "cell_type": "code",
   "execution_count": null,
   "metadata": {},
   "outputs": [],
   "source": []
  }
 ],
 "metadata": {
  "kernelspec": {
   "display_name": "Python 3",
   "language": "python",
   "name": "python3"
  },
  "language_info": {
   "codemirror_mode": {
    "name": "ipython",
    "version": 3
   },
   "file_extension": ".py",
   "mimetype": "text/x-python",
   "name": "python",
   "nbconvert_exporter": "python",
   "pygments_lexer": "ipython3",
   "version": "3.11.4"
  },
  "orig_nbformat": 4
 },
 "nbformat": 4,
 "nbformat_minor": 2
}
