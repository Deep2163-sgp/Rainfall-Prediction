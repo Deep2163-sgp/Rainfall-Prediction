{
 "cells": [
  {
   "cell_type": "code",
   "execution_count": 1,
   "metadata": {},
   "outputs": [],
   "source": [
    "import numpy as np\n",
    "import pandas as pd\n",
    "import matplotlib.pyplot as plt\n",
    "from sklearn.preprocessing import MinMaxScaler\n",
    "from sklearn.metrics import mean_squared_error\n",
    "from tensorflow.keras.models import Sequential\n",
    "from tensorflow.keras.layers import LSTM, Dense"
   ]
  },
  {
   "cell_type": "code",
   "execution_count": 2,
   "metadata": {},
   "outputs": [],
   "source": [
    "# Load the rainfall data\n",
    "data = pd.read_csv('Data1_Columbia.csv')"
   ]
  },
  {
   "cell_type": "code",
   "execution_count": 3,
   "metadata": {},
   "outputs": [],
   "source": [
    "# Preprocess the data\n",
    "scaler = MinMaxScaler(feature_range=(0, 1))\n",
    "scaled_data = scaler.fit_transform(data['Rainfall'].values.reshape(-1, 1))"
   ]
  },
  {
   "cell_type": "code",
   "execution_count": 4,
   "metadata": {},
   "outputs": [],
   "source": [
    "# Split the data into train and test sets\n",
    "train_size = int(len(data) * 0.8)\n",
    "train_data = scaled_data[:train_size]\n",
    "test_data = scaled_data[train_size:]\n"
   ]
  },
  {
   "cell_type": "code",
   "execution_count": 5,
   "metadata": {},
   "outputs": [],
   "source": [
    "# Define a function to create the dataset\n",
    "def create_dataset(data, look_back=1):\n",
    "    X, Y = [], []\n",
    "    for i in range(len(data)-look_back):\n",
    "        X.append(data[i:i+look_back, 0])\n",
    "        Y.append(data[i+look_back, 0])\n",
    "    return np.array(X), np.array(Y)"
   ]
  },
  {
   "cell_type": "code",
   "execution_count": 6,
   "metadata": {},
   "outputs": [],
   "source": [
    "# Create the dataset\n",
    "look_back = 10  # number of previous time steps to use for prediction\n",
    "train_X, train_Y = create_dataset(train_data, look_back)\n",
    "test_X, test_Y = create_dataset(test_data, look_back)"
   ]
  },
  {
   "cell_type": "code",
   "execution_count": 7,
   "metadata": {},
   "outputs": [],
   "source": [
    "\n",
    "# Reshape the input data to be in the form [samples, time steps, features]\n",
    "train_X = np.reshape(train_X, (train_X.shape[0], train_X.shape[1], 1))\n",
    "test_X = np.reshape(test_X, (test_X.shape[0], test_X.shape[1], 1))\n"
   ]
  },
  {
   "cell_type": "code",
   "execution_count": 8,
   "metadata": {},
   "outputs": [],
   "source": [
    "# Build the LSTM model\n",
    "model = Sequential()\n",
    "model.add(LSTM(50, input_shape=(look_back, 1)))\n",
    "model.add(Dense(1))\n",
    "model.compile(loss='mean_squared_error', optimizer='adam')"
   ]
  },
  {
   "cell_type": "code",
   "execution_count": 9,
   "metadata": {},
   "outputs": [
    {
     "name": "stdout",
     "output_type": "stream",
     "text": [
      "Epoch 1/10\n",
      "12325/12325 - 48s - loss: 5.0326e-04 - 48s/epoch - 4ms/step\n",
      "Epoch 2/10\n",
      "12325/12325 - 44s - loss: 5.9079e-05 - 44s/epoch - 4ms/step\n",
      "Epoch 3/10\n",
      "12325/12325 - 43s - loss: 4.7884e-05 - 43s/epoch - 4ms/step\n",
      "Epoch 4/10\n",
      "12325/12325 - 43s - loss: 4.3495e-05 - 43s/epoch - 4ms/step\n",
      "Epoch 5/10\n",
      "12325/12325 - 41s - loss: 4.1227e-05 - 41s/epoch - 3ms/step\n",
      "Epoch 6/10\n",
      "12325/12325 - 41s - loss: 3.8881e-05 - 41s/epoch - 3ms/step\n",
      "Epoch 7/10\n",
      "12325/12325 - 41s - loss: 3.7743e-05 - 41s/epoch - 3ms/step\n",
      "Epoch 8/10\n",
      "12325/12325 - 41s - loss: 3.6640e-05 - 41s/epoch - 3ms/step\n",
      "Epoch 9/10\n",
      "12325/12325 - 41s - loss: 3.5894e-05 - 41s/epoch - 3ms/step\n",
      "Epoch 10/10\n",
      "12325/12325 - 41s - loss: 3.5233e-05 - 41s/epoch - 3ms/step\n"
     ]
    },
    {
     "data": {
      "text/plain": [
       "<keras.callbacks.History at 0x19f938cb690>"
      ]
     },
     "execution_count": 9,
     "metadata": {},
     "output_type": "execute_result"
    }
   ],
   "source": [
    "# Train the model\n",
    "model.fit(train_X, train_Y, epochs=10, batch_size=1, verbose=2)\n"
   ]
  },
  {
   "cell_type": "code",
   "execution_count": 10,
   "metadata": {},
   "outputs": [
    {
     "name": "stdout",
     "output_type": "stream",
     "text": [
      "386/386 [==============================] - 2s 3ms/step\n",
      "97/97 [==============================] - 0s 3ms/step\n"
     ]
    }
   ],
   "source": [
    "# Make predictions\n",
    "train_predictions = model.predict(train_X)\n",
    "test_predictions = model.predict(test_X)"
   ]
  },
  {
   "cell_type": "code",
   "execution_count": 11,
   "metadata": {},
   "outputs": [],
   "source": [
    "# Inverse scale the predictions\n",
    "train_predictions = scaler.inverse_transform(train_predictions)\n",
    "test_predictions = scaler.inverse_transform(test_predictions)\n",
    "train_Y = scaler.inverse_transform([train_Y])\n",
    "test_Y = scaler.inverse_transform([test_Y])"
   ]
  },
  {
   "cell_type": "code",
   "execution_count": 12,
   "metadata": {},
   "outputs": [],
   "source": [
    "# Calculate MSE and RMSE\n",
    "train_mse = mean_squared_error(train_Y[0], train_predictions[:, 0])\n",
    "train_rmse = np.sqrt(train_mse)\n",
    "test_mse = mean_squared_error(test_Y[0], test_predictions[:, 0])\n",
    "test_rmse = np.sqrt(test_mse)"
   ]
  },
  {
   "cell_type": "code",
   "execution_count": 13,
   "metadata": {},
   "outputs": [
    {
     "name": "stdout",
     "output_type": "stream",
     "text": [
      "Train MSE: 39.00122720934289\n",
      "Train RMSE: 6.245096253008667\n",
      "Test MSE: 706.7762585940189\n",
      "Test RMSE: 26.5852639368884\n"
     ]
    }
   ],
   "source": [
    "print(\"Train MSE:\", train_mse)\n",
    "print(\"Train RMSE:\", train_rmse)\n",
    "print(\"Test MSE:\", test_mse)\n",
    "print(\"Test RMSE:\", test_rmse)"
   ]
  },
  {
   "cell_type": "code",
   "execution_count": 38,
   "metadata": {},
   "outputs": [],
   "source": [
    "# Set the threshold value\n",
    "threshold = 0.5"
   ]
  },
  {
   "cell_type": "code",
   "execution_count": 39,
   "metadata": {},
   "outputs": [],
   "source": [
    "# Calculate prediction percentage\n",
    "train_percentage = np.sum(train_predictions > threshold) / len(train_predictions) * 100\n",
    "test_percentage = np.sum(test_predictions > threshold) / len(test_predictions) * 100"
   ]
  },
  {
   "cell_type": "code",
   "execution_count": 40,
   "metadata": {},
   "outputs": [
    {
     "name": "stdout",
     "output_type": "stream",
     "text": [
      "Train Prediction Percentage: 71.08316430020284\n",
      "Test Prediction Percentage: 68.4775536759922\n"
     ]
    }
   ],
   "source": [
    "print(\"Train Prediction Percentage:\", train_percentage)\n",
    "print(\"Test Prediction Percentage:\", test_percentage)\n"
   ]
  },
  {
   "cell_type": "code",
   "execution_count": 41,
   "metadata": {},
   "outputs": [
    {
     "data": {
      "image/png": "[encoded data removed]",
      "text/plain": [
       "<Figure size 640x480 with 1 Axes>"
      ]
     },
     "metadata": {},
     "output_type": "display_data"
    }
   ],
   "source": [
    "# Plot the predicted values and actual values\n",
    "plt.plot(train_predictions[:, 0], label='Train Predictions')\n",
    "plt.plot(test_predictions[:, 0], label='Test Predictions')\n",
    "plt.legend()\n",
    "plt.show()"
   ]
  }
 ],
 "metadata": {
  "kernelspec": {
   "display_name": "Python 3",
   "language": "python",
   "name": "python3"
  },
  "language_info": {
   "codemirror_mode": {
    "name": "ipython",
    "version": 3
   },
   "file_extension": ".py",
   "mimetype": "text/x-python",
   "name": "python",
   "nbconvert_exporter": "python",
   "pygments_lexer": "ipython3",
   "version": "3.11.4"
  },
  "orig_nbformat": 4
 },
 "nbformat": 4,
 "nbformat_minor": 2
}
