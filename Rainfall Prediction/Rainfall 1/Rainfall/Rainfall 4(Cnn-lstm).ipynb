{
 "cells": [
  {
   "cell_type": "code",
   "execution_count": 78,
   "metadata": {},
   "outputs": [],
   "source": [
    "import numpy as np\n",
    "import pandas as pd\n",
    "from sklearn.preprocessing import MinMaxScaler\n",
    "from keras.models import Sequential\n",
    "from keras.layers import Conv1D, LSTM, Dense, Flatten, Reshape\n"
   ]
  },
  {
   "cell_type": "code",
   "execution_count": 79,
   "metadata": {},
   "outputs": [],
   "source": [
    "# Load the dataset\n",
    "df = pd.read_csv('Data1_Columbia.csv')"
   ]
  },
  {
   "cell_type": "code",
   "execution_count": 80,
   "metadata": {},
   "outputs": [
    {
     "data": {
      "text/html": [
       "<div>\n",
       "<style scoped>\n",
       "    .dataframe tbody tr th:only-of-type {\n",
       "        vertical-align: middle;\n",
       "    }\n",
       "\n",
       "    .dataframe tbody tr th {\n",
       "        vertical-align: top;\n",
       "    }\n",
       "\n",
       "    .dataframe thead th {\n",
       "        text-align: right;\n",
       "    }\n",
       "</style>\n",
       "<table border=\"1\" class=\"dataframe\">\n",
       "  <thead>\n",
       "    <tr style=\"text-align: right;\">\n",
       "      <th></th>\n",
       "      <th>T2M</th>\n",
       "      <th>T2MWET</th>\n",
       "      <th>T2M_MAX</th>\n",
       "      <th>T2M_MIN</th>\n",
       "      <th>T2MDEW</th>\n",
       "      <th>RH2M</th>\n",
       "      <th>WS2M_MAX</th>\n",
       "      <th>WS2M_MIN</th>\n",
       "      <th>WD10M</th>\n",
       "      <th>PS</th>\n",
       "      <th>Rainfall</th>\n",
       "      <th>Unnamed: 11</th>\n",
       "    </tr>\n",
       "  </thead>\n",
       "  <tbody>\n",
       "    <tr>\n",
       "      <th>0</th>\n",
       "      <td>26.12</td>\n",
       "      <td>24.44</td>\n",
       "      <td>26.70</td>\n",
       "      <td>25.63</td>\n",
       "      <td>22.75</td>\n",
       "      <td>81.56</td>\n",
       "      <td>4.15</td>\n",
       "      <td>0.57</td>\n",
       "      <td>56.50</td>\n",
       "      <td>101.19</td>\n",
       "      <td>8.20</td>\n",
       "      <td>NaN</td>\n",
       "    </tr>\n",
       "    <tr>\n",
       "      <th>1</th>\n",
       "      <td>26.96</td>\n",
       "      <td>25.01</td>\n",
       "      <td>27.42</td>\n",
       "      <td>26.15</td>\n",
       "      <td>23.05</td>\n",
       "      <td>79.19</td>\n",
       "      <td>5.38</td>\n",
       "      <td>4.21</td>\n",
       "      <td>47.94</td>\n",
       "      <td>101.17</td>\n",
       "      <td>0.72</td>\n",
       "      <td>NaN</td>\n",
       "    </tr>\n",
       "    <tr>\n",
       "      <th>2</th>\n",
       "      <td>26.15</td>\n",
       "      <td>23.98</td>\n",
       "      <td>26.62</td>\n",
       "      <td>25.89</td>\n",
       "      <td>21.82</td>\n",
       "      <td>77.00</td>\n",
       "      <td>2.18</td>\n",
       "      <td>0.19</td>\n",
       "      <td>158.00</td>\n",
       "      <td>101.09</td>\n",
       "      <td>5.68</td>\n",
       "      <td>NaN</td>\n",
       "    </tr>\n",
       "    <tr>\n",
       "      <th>3</th>\n",
       "      <td>26.02</td>\n",
       "      <td>23.74</td>\n",
       "      <td>26.38</td>\n",
       "      <td>25.80</td>\n",
       "      <td>21.47</td>\n",
       "      <td>75.94</td>\n",
       "      <td>2.73</td>\n",
       "      <td>0.68</td>\n",
       "      <td>87.69</td>\n",
       "      <td>101.16</td>\n",
       "      <td>4.25</td>\n",
       "      <td>NaN</td>\n",
       "    </tr>\n",
       "    <tr>\n",
       "      <th>4</th>\n",
       "      <td>26.12</td>\n",
       "      <td>24.44</td>\n",
       "      <td>26.70</td>\n",
       "      <td>25.63</td>\n",
       "      <td>22.75</td>\n",
       "      <td>81.56</td>\n",
       "      <td>4.15</td>\n",
       "      <td>0.57</td>\n",
       "      <td>56.50</td>\n",
       "      <td>101.19</td>\n",
       "      <td>8.20</td>\n",
       "      <td>NaN</td>\n",
       "    </tr>\n",
       "  </tbody>\n",
       "</table>\n",
       "</div>"
      ],
      "text/plain": [
       "     T2M  T2MWET  T2M_MAX  T2M_MIN  T2MDEW   RH2M  WS2M_MAX  WS2M_MIN   WD10M   \n",
       "0  26.12   24.44    26.70    25.63   22.75  81.56      4.15      0.57   56.50  \\\n",
       "1  26.96   25.01    27.42    26.15   23.05  79.19      5.38      4.21   47.94   \n",
       "2  26.15   23.98    26.62    25.89   21.82  77.00      2.18      0.19  158.00   \n",
       "3  26.02   23.74    26.38    25.80   21.47  75.94      2.73      0.68   87.69   \n",
       "4  26.12   24.44    26.70    25.63   22.75  81.56      4.15      0.57   56.50   \n",
       "\n",
       "       PS  Rainfall  Unnamed: 11  \n",
       "0  101.19      8.20          NaN  \n",
       "1  101.17      0.72          NaN  \n",
       "2  101.09      5.68          NaN  \n",
       "3  101.16      4.25          NaN  \n",
       "4  101.19      8.20          NaN  "
      ]
     },
     "execution_count": 80,
     "metadata": {},
     "output_type": "execute_result"
    }
   ],
   "source": [
    "df.head()"
   ]
  },
  {
   "cell_type": "code",
   "execution_count": 99,
   "metadata": {},
   "outputs": [
    {
     "ename": "NameError",
     "evalue": "name 'Unnamed' is not defined",
     "output_type": "error",
     "traceback": [
      "\u001b[1;31m---------------------------------------------------------------------------\u001b[0m",
      "\u001b[1;31mNameError\u001b[0m                                 Traceback (most recent call last)",
      "Cell \u001b[1;32mIn[99], line 1\u001b[0m\n\u001b[1;32m----> 1\u001b[0m df \u001b[39m=\u001b[39m df\u001b[39m.\u001b[39mdrop(Unnamed, axis\u001b[39m=\u001b[39m\u001b[39m12\u001b[39m)\n",
      "\u001b[1;31mNameError\u001b[0m: name 'Unnamed' is not defined"
     ]
    }
   ],
   "source": [
    "df = df.drop(Unnamed, axis=12)"
   ]
  },
  {
   "cell_type": "code",
   "execution_count": 81,
   "metadata": {},
   "outputs": [
    {
     "data": {
      "text/plain": [
       "(28188, 12)"
      ]
     },
     "execution_count": 81,
     "metadata": {},
     "output_type": "execute_result"
    }
   ],
   "source": [
    "df.shape"
   ]
  },
  {
   "cell_type": "code",
   "execution_count": 82,
   "metadata": {},
   "outputs": [],
   "source": [
    "# Preprocessing the data\n",
    "scaler = MinMaxScaler(feature_range=(0, 1))\n",
    "scaled_data = scaler.fit_transform(df) "
   ]
  },
  {
   "cell_type": "code",
   "execution_count": 83,
   "metadata": {},
   "outputs": [],
   "source": [
    "# Split the data into training and testing sets\n",
    "train_size = int(len(df) * 0.8)\n",
    "train_data = scaled_data[:train_size]\n",
    "test_data = scaled_data[train_size:]"
   ]
  },
  {
   "cell_type": "code",
   "execution_count": 84,
   "metadata": {},
   "outputs": [],
   "source": [
    "# Define the window size\n",
    "window_size = 5"
   ]
  },
  {
   "cell_type": "code",
   "execution_count": 85,
   "metadata": {},
   "outputs": [],
   "source": [
    "# Create input and target data\n",
    "def create_dataset(dataset, window_size):\n",
    "    data_X, data_Y = [], []\n",
    "    for i in range(len(dataset) - window_size):\n",
    "        data_X.append(dataset[i:i + window_size, :-1])\n",
    "        data_Y.append(dataset[i + window_size, -1])  # Target variable (last column)\n",
    "    return np.array(data_X), np.array(data_Y)"
   ]
  },
  {
   "cell_type": "code",
   "execution_count": 86,
   "metadata": {},
   "outputs": [],
   "source": [
    "train_X, train_Y = create_dataset(train_data, window_size)\n",
    "test_X, test_Y = create_dataset(test_data, window_size)"
   ]
  },
  {
   "cell_type": "code",
   "execution_count": 87,
   "metadata": {},
   "outputs": [],
   "source": [
    "train_X = train_X.reshape((train_X.shape[0], train_X.shape[1], train_X.shape[2], 1))\n",
    "test_X = test_X.reshape((test_X.shape[0], test_X.shape[1], test_X.shape[2], 1))\n"
   ]
  },
  {
   "cell_type": "code",
   "execution_count": 88,
   "metadata": {},
   "outputs": [],
   "source": [
    "model = Sequential()\n",
    "model.add(Conv1D(filters=64, kernel_size=1, activation='relu', input_shape=(window_size, train_X.shape[2])))\n",
    "model.add(Conv1D(filters=64, kernel_size=1, activation='relu'))\n",
    "model.add(Flatten())\n",
    "model.add(Reshape((window_size, -1)))\n",
    "model.add(LSTM(units=50, return_sequences=True))\n",
    "model.add(LSTM(units=50))\n",
    "model.add(Dense(units=1))\n",
    "model.compile(optimizer='adam', loss='mse')\n"
   ]
  },
  {
   "cell_type": "code",
   "execution_count": 89,
   "metadata": {},
   "outputs": [
    {
     "name": "stdout",
     "output_type": "stream",
     "text": [
      "Epoch 1/10\n",
      "705/705 [==============================] - 12s 8ms/step - loss: nan\n",
      "Epoch 2/10\n",
      "705/705 [==============================] - 6s 9ms/step - loss: nan\n",
      "Epoch 3/10\n",
      "705/705 [==============================] - 6s 9ms/step - loss: nan\n",
      "Epoch 4/10\n",
      "705/705 [==============================] - 6s 9ms/step - loss: nan\n",
      "Epoch 5/10\n",
      "705/705 [==============================] - 6s 8ms/step - loss: nan\n",
      "Epoch 6/10\n",
      "705/705 [==============================] - 6s 9ms/step - loss: nan\n",
      "Epoch 7/10\n",
      "705/705 [==============================] - 5s 8ms/step - loss: nan\n",
      "Epoch 8/10\n",
      "705/705 [==============================] - 5s 7ms/step - loss: nan\n",
      "Epoch 9/10\n",
      "705/705 [==============================] - 5s 7ms/step - loss: nan\n",
      "Epoch 10/10\n",
      "705/705 [==============================] - 5s 7ms/step - loss: nan\n"
     ]
    },
    {
     "data": {
      "text/plain": [
       "<keras.callbacks.History at 0x1f155326bd0>"
      ]
     },
     "execution_count": 89,
     "metadata": {},
     "output_type": "execute_result"
    }
   ],
   "source": [
    "# Train the model\n",
    "model.fit(train_X, train_Y, epochs=10, batch_size=32, verbose=1)\n"
   ]
  },
  {
   "cell_type": "code",
   "execution_count": 90,
   "metadata": {},
   "outputs": [
    {
     "name": "stdout",
     "output_type": "stream",
     "text": [
      "177/177 [==============================] - 2s 3ms/step\n"
     ]
    }
   ],
   "source": [
    "# Make predictions on the test data\n",
    "predicted_data = model.predict(test_X)"
   ]
  },
  {
   "cell_type": "code",
   "execution_count": 98,
   "metadata": {},
   "outputs": [
    {
     "name": "stderr",
     "output_type": "stream",
     "text": [
      "c:\\Users\\deepr\\AppData\\Local\\Programs\\Python\\Python311\\Lib\\site-packages\\sklearn\\preprocessing\\_data.py:473: RuntimeWarning: All-NaN slice encountered\n",
      "  data_min = np.nanmin(X, axis=0)\n",
      "c:\\Users\\deepr\\AppData\\Local\\Programs\\Python\\Python311\\Lib\\site-packages\\sklearn\\preprocessing\\_data.py:474: RuntimeWarning: All-NaN slice encountered\n",
      "  data_max = np.nanmax(X, axis=0)\n"
     ]
    },
    {
     "ename": "ValueError",
     "evalue": "operands could not be broadcast together with shapes (5633,11) (12,) (5633,11) ",
     "output_type": "error",
     "traceback": [
      "\u001b[1;31m---------------------------------------------------------------------------\u001b[0m",
      "\u001b[1;31mValueError\u001b[0m                                Traceback (most recent call last)",
      "Cell \u001b[1;32mIn[98], line 10\u001b[0m\n\u001b[0;32m      7\u001b[0m scaler\u001b[39m.\u001b[39mfit(train_data)\n\u001b[0;32m      9\u001b[0m \u001b[39m# Inverse scale the predicted data\u001b[39;00m\n\u001b[1;32m---> 10\u001b[0m predicted_data \u001b[39m=\u001b[39m scaler\u001b[39m.\u001b[39;49minverse_transform(predicted_data)\n\u001b[0;32m     12\u001b[0m \u001b[39m# Print the predicted values\u001b[39;00m\n\u001b[0;32m     13\u001b[0m \u001b[39mprint\u001b[39m(predicted_data)\n",
      "File \u001b[1;32mc:\\Users\\deepr\\AppData\\Local\\Programs\\Python\\Python311\\Lib\\site-packages\\sklearn\\preprocessing\\_data.py:541\u001b[0m, in \u001b[0;36mMinMaxScaler.inverse_transform\u001b[1;34m(self, X)\u001b[0m\n\u001b[0;32m    535\u001b[0m check_is_fitted(\u001b[39mself\u001b[39m)\n\u001b[0;32m    537\u001b[0m X \u001b[39m=\u001b[39m check_array(\n\u001b[0;32m    538\u001b[0m     X, copy\u001b[39m=\u001b[39m\u001b[39mself\u001b[39m\u001b[39m.\u001b[39mcopy, dtype\u001b[39m=\u001b[39mFLOAT_DTYPES, force_all_finite\u001b[39m=\u001b[39m\u001b[39m\"\u001b[39m\u001b[39mallow-nan\u001b[39m\u001b[39m\"\u001b[39m\n\u001b[0;32m    539\u001b[0m )\n\u001b[1;32m--> 541\u001b[0m X \u001b[39m-\u001b[39;49m\u001b[39m=\u001b[39;49m \u001b[39mself\u001b[39;49m\u001b[39m.\u001b[39;49mmin_\n\u001b[0;32m    542\u001b[0m X \u001b[39m/\u001b[39m\u001b[39m=\u001b[39m \u001b[39mself\u001b[39m\u001b[39m.\u001b[39mscale_\n\u001b[0;32m    543\u001b[0m \u001b[39mreturn\u001b[39;00m X\n",
      "\u001b[1;31mValueError\u001b[0m: operands could not be broadcast together with shapes (5633,11) (12,) (5633,11) "
     ]
    }
   ],
   "source": [
    "from sklearn.preprocessing import MinMaxScaler\n",
    "\n",
    "# Create a MinMaxScaler object\n",
    "scaler = MinMaxScaler()\n",
    "\n",
    "# Fit the scaler on your training data\n",
    "scaler.fit(train_data)\n",
    "\n",
    "# Inverse scale the predicted data\n",
    "predicted_data = scaler.inverse_transform(predicted_data)\n",
    "\n",
    "# Print the predicted values\n",
    "print(predicted_data)\n"
   ]
  },
  {
   "cell_type": "code",
   "execution_count": 94,
   "metadata": {},
   "outputs": [
    {
     "name": "stdout",
     "output_type": "stream",
     "text": [
      "177/177 [==============================] - 1s 3ms/step\n",
      "[[nan]\n",
      " [nan]\n",
      " [nan]\n",
      " ...\n",
      " [nan]\n",
      " [nan]\n",
      " [nan]]\n"
     ]
    }
   ],
   "source": [
    "# Assuming you have trained your model and have the test data as test_X\n",
    "\n",
    "# Make predictions on the test data\n",
    "predictions = model.predict(test_X)\n",
    "\n",
    "# Print the predictions\n",
    "print(predictions*100)\n"
   ]
  }
 ],
 "metadata": {
  "kernelspec": {
   "display_name": "Python 3",
   "language": "python",
   "name": "python3"
  },
  "language_info": {
   "codemirror_mode": {
    "name": "ipython",
    "version": 3
   },
   "file_extension": ".py",
   "mimetype": "text/x-python",
   "name": "python",
   "nbconvert_exporter": "python",
   "pygments_lexer": "ipython3",
   "version": "3.11.4"
  },
  "orig_nbformat": 4
 },
 "nbformat": 4,
 "nbformat_minor": 2
}
