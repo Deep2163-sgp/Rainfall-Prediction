{
 "cells": [
  {
   "cell_type": "code",
   "execution_count": 33,
   "metadata": {},
   "outputs": [],
   "source": [
    "import numpy as np\n",
    "import pandas as pd\n",
    "import matplotlib.pyplot as plt\n",
    "from sklearn.model_selection import train_test_split\n",
    "from sklearn.preprocessing import MinMaxScaler\n",
    "from keras.models import Sequential\n",
    "from keras.layers import Conv1D, MaxPooling1D, LSTM, Dense\n",
    "from keras import regularizers"
   ]
  },
  {
   "cell_type": "code",
   "execution_count": 34,
   "metadata": {},
   "outputs": [],
   "source": [
    "df = pd.read_csv('Data1_Columbia.csv')"
   ]
  },
  {
   "cell_type": "code",
   "execution_count": 35,
   "metadata": {},
   "outputs": [],
   "source": [
    "# Preprocessing\n",
    "scaler = MinMaxScaler(feature_range=(0, 1))\n",
    "scaled_data = scaler.fit_transform(df)"
   ]
  },
  {
   "cell_type": "code",
   "execution_count": 36,
   "metadata": {},
   "outputs": [],
   "source": [
    "# Split the dataset into training and testing sets\n",
    "train_size = int(len(scaled_data) * 0.8)\n",
    "train_data, test_data = scaled_data[:train_size, :], scaled_data[train_size:, :]"
   ]
  },
  {
   "cell_type": "code",
   "execution_count": 37,
   "metadata": {},
   "outputs": [],
   "source": [
    "# Prepare the data for training and testing\n",
    "def create_sequences(data, seq_length):\n",
    "    X, y = [], []\n",
    "    for i in range(len(data) - seq_length):\n",
    "        X.append(data[i:i+seq_length, :])\n",
    "        y.append(data[i+seq_length, -1])\n",
    "    return np.array(X), np.array(y)"
   ]
  },
  {
   "cell_type": "code",
   "execution_count": 38,
   "metadata": {},
   "outputs": [],
   "source": [
    "seq_length = 10  # Define the sequence length for input\n",
    "X_train, y_train = create_sequences(train_data, seq_length)\n",
    "X_test, y_test = create_sequences(test_data, seq_length)"
   ]
  },
  {
   "cell_type": "code",
   "execution_count": 39,
   "metadata": {},
   "outputs": [],
   "source": [
    "# Reshape the input data to match the expected input shape of the CNN-LSTM model\n",
    "X_train = X_train.reshape(X_train.shape[0], X_train.shape[1], df.shape[1])\n",
    "X_test = X_test.reshape(X_test.shape[0], X_test.shape[1], df.shape[1])"
   ]
  },
  {
   "cell_type": "code",
   "execution_count": 40,
   "metadata": {},
   "outputs": [],
   "source": [
    "# Build the model\n",
    "model = Sequential()\n",
    "model.add(Conv1D(filters=32, kernel_size=3, activation='relu', input_shape=(seq_length, df.shape[1])))\n",
    "model.add(MaxPooling1D(pool_size=2))\n",
    "model.add(LSTM(32, activation='relu'))\n",
    "\n",
    "#regularizer\n",
    "model.add(Dense(500,kernel_regularizer= regularizers.l2(0.01),activation= 'relu'))\n",
    "model.add(Dense(1))"
   ]
  },
  {
   "cell_type": "code",
   "execution_count": 41,
   "metadata": {},
   "outputs": [],
   "source": [
    "# Compile the model\n",
    "model.compile(optimizer='adam', loss='mean_squared_error')"
   ]
  },
  {
   "cell_type": "code",
   "execution_count": 42,
   "metadata": {},
   "outputs": [
    {
     "name": "stdout",
     "output_type": "stream",
     "text": [
      "Epoch 1/50\n"
     ]
    },
    {
     "name": "stdout",
     "output_type": "stream",
     "text": [
      "386/386 [==============================] - 5s 6ms/step - loss: 0.1032 - val_loss: 0.0095\n",
      "Epoch 2/50\n",
      "386/386 [==============================] - 2s 5ms/step - loss: 0.0029 - val_loss: 0.0015\n",
      "Epoch 3/50\n",
      "386/386 [==============================] - 2s 5ms/step - loss: 1.5584e-04 - val_loss: 9.9637e-04\n",
      "Epoch 4/50\n",
      "386/386 [==============================] - 2s 5ms/step - loss: 6.5626e-06 - val_loss: 9.7646e-04\n",
      "Epoch 5/50\n",
      "386/386 [==============================] - 2s 5ms/step - loss: 1.4748e-06 - val_loss: 9.7972e-04\n",
      "Epoch 6/50\n",
      "386/386 [==============================] - 2s 5ms/step - loss: 1.5309e-06 - val_loss: 9.7419e-04\n",
      "Epoch 7/50\n",
      "386/386 [==============================] - 2s 4ms/step - loss: 1.8149e-06 - val_loss: 9.7466e-04\n",
      "Epoch 8/50\n",
      "386/386 [==============================] - 2s 4ms/step - loss: 1.0173e-06 - val_loss: 9.7413e-04\n",
      "Epoch 9/50\n",
      "386/386 [==============================] - 2s 5ms/step - loss: 1.7348e-06 - val_loss: 9.7761e-04\n",
      "Epoch 10/50\n",
      "386/386 [==============================] - 2s 5ms/step - loss: 2.1968e-06 - val_loss: 9.7516e-04\n",
      "Epoch 11/50\n",
      "386/386 [==============================] - 2s 4ms/step - loss: 1.6432e-06 - val_loss: 9.7627e-04\n",
      "Epoch 12/50\n",
      "386/386 [==============================] - 2s 4ms/step - loss: 2.3173e-06 - val_loss: 9.7407e-04\n",
      "Epoch 13/50\n",
      "386/386 [==============================] - 2s 4ms/step - loss: 2.0697e-06 - val_loss: 9.7410e-04\n",
      "Epoch 14/50\n",
      "386/386 [==============================] - 2s 4ms/step - loss: 2.2825e-06 - val_loss: 9.7423e-04\n",
      "Epoch 15/50\n",
      "386/386 [==============================] - 2s 5ms/step - loss: 2.7451e-06 - val_loss: 9.7848e-04\n",
      "Epoch 16/50\n",
      "386/386 [==============================] - 2s 4ms/step - loss: 2.2761e-06 - val_loss: 9.7410e-04\n",
      "Epoch 17/50\n",
      "386/386 [==============================] - 2s 4ms/step - loss: 2.5305e-06 - val_loss: 9.7999e-04\n",
      "Epoch 18/50\n",
      "386/386 [==============================] - 2s 5ms/step - loss: 1.8648e-06 - val_loss: 9.7472e-04\n",
      "Epoch 19/50\n",
      "386/386 [==============================] - 2s 5ms/step - loss: 2.4640e-06 - val_loss: 9.7696e-04\n",
      "Epoch 20/50\n",
      "386/386 [==============================] - 2s 5ms/step - loss: 2.1564e-06 - val_loss: 9.7448e-04\n",
      "Epoch 21/50\n",
      "386/386 [==============================] - 2s 5ms/step - loss: 1.5505e-06 - val_loss: 9.8515e-04\n",
      "Epoch 22/50\n",
      "386/386 [==============================] - 2s 4ms/step - loss: 1.5024e-06 - val_loss: 9.7421e-04\n",
      "Epoch 23/50\n",
      "386/386 [==============================] - 2s 4ms/step - loss: 1.8071e-06 - val_loss: 9.7510e-04\n",
      "Epoch 24/50\n",
      "386/386 [==============================] - 2s 4ms/step - loss: 8.7056e-07 - val_loss: 9.7407e-04\n",
      "Epoch 25/50\n",
      "386/386 [==============================] - 2s 4ms/step - loss: 1.2565e-06 - val_loss: 9.7491e-04\n",
      "Epoch 26/50\n",
      "386/386 [==============================] - 2s 4ms/step - loss: 9.2021e-07 - val_loss: 9.7407e-04\n",
      "Epoch 27/50\n",
      "386/386 [==============================] - 2s 5ms/step - loss: 9.2916e-07 - val_loss: 9.7421e-04\n",
      "Epoch 28/50\n",
      "386/386 [==============================] - 2s 5ms/step - loss: 8.3528e-07 - val_loss: 9.7611e-04\n",
      "Epoch 29/50\n",
      "386/386 [==============================] - 2s 5ms/step - loss: 7.7915e-07 - val_loss: 9.7573e-04\n",
      "Epoch 30/50\n",
      "386/386 [==============================] - 2s 5ms/step - loss: 7.4876e-07 - val_loss: 9.7918e-04\n",
      "Epoch 31/50\n",
      "386/386 [==============================] - 2s 5ms/step - loss: 6.3451e-07 - val_loss: 9.7564e-04\n",
      "Epoch 32/50\n",
      "386/386 [==============================] - 2s 5ms/step - loss: 5.3125e-07 - val_loss: 9.8105e-04\n",
      "Epoch 33/50\n",
      "386/386 [==============================] - 2s 5ms/step - loss: 5.9793e-07 - val_loss: 9.7578e-04\n",
      "Epoch 34/50\n",
      "386/386 [==============================] - 2s 5ms/step - loss: 4.7735e-07 - val_loss: 9.7860e-04\n",
      "Epoch 35/50\n",
      "386/386 [==============================] - 2s 5ms/step - loss: 4.8565e-07 - val_loss: 9.7510e-04\n",
      "Epoch 36/50\n",
      "386/386 [==============================] - 2s 4ms/step - loss: 4.4465e-07 - val_loss: 9.7629e-04\n",
      "Epoch 37/50\n",
      "386/386 [==============================] - 2s 4ms/step - loss: 4.8945e-07 - val_loss: 9.7842e-04\n",
      "Epoch 38/50\n",
      "386/386 [==============================] - 2s 5ms/step - loss: 4.1559e-07 - val_loss: 9.7603e-04\n",
      "Epoch 39/50\n",
      "386/386 [==============================] - 2s 5ms/step - loss: 3.8746e-07 - val_loss: 9.7564e-04\n",
      "Epoch 40/50\n",
      "386/386 [==============================] - 2s 5ms/step - loss: 4.5589e-07 - val_loss: 9.7486e-04\n",
      "Epoch 41/50\n",
      "386/386 [==============================] - 2s 4ms/step - loss: 3.7044e-07 - val_loss: 9.7446e-04\n",
      "Epoch 42/50\n",
      "386/386 [==============================] - 2s 4ms/step - loss: 4.1174e-07 - val_loss: 9.8106e-04\n",
      "Epoch 43/50\n",
      "386/386 [==============================] - 2s 5ms/step - loss: 4.2076e-07 - val_loss: 9.7629e-04\n",
      "Epoch 44/50\n",
      "386/386 [==============================] - 2s 4ms/step - loss: 4.4456e-07 - val_loss: 9.7488e-04\n",
      "Epoch 45/50\n",
      "386/386 [==============================] - 2s 4ms/step - loss: 3.7827e-07 - val_loss: 9.7530e-04\n",
      "Epoch 46/50\n",
      "386/386 [==============================] - 2s 4ms/step - loss: 3.6961e-07 - val_loss: 9.7524e-04\n",
      "Epoch 47/50\n",
      "386/386 [==============================] - 2s 4ms/step - loss: 3.9600e-07 - val_loss: 9.7485e-04\n",
      "Epoch 48/50\n",
      "386/386 [==============================] - 2s 4ms/step - loss: 4.0102e-07 - val_loss: 9.7566e-04\n",
      "Epoch 49/50\n",
      "386/386 [==============================] - 2s 4ms/step - loss: 3.9742e-07 - val_loss: 9.7446e-04\n",
      "Epoch 50/50\n",
      "386/386 [==============================] - 2s 4ms/step - loss: 3.9357e-07 - val_loss: 9.7654e-04\n"
     ]
    }
   ],
   "source": [
    "# Train the model\n",
    "history = model.fit(X_train, y_train, epochs=50, batch_size=32, validation_data=(X_test, y_test))"
   ]
  },
  {
   "cell_type": "code",
   "execution_count": 43,
   "metadata": {},
   "outputs": [
    {
     "data": {
      "image/png": "[encoded data removed]",
      "text/plain": [
       "<Figure size 640x480 with 1 Axes>"
      ]
     },
     "metadata": {},
     "output_type": "display_data"
    }
   ],
   "source": [
    "# Plot accuracy and loss graph\n",
    "plt.plot(history.history['loss'], label='Training Loss')\n",
    "plt.plot(history.history['val_loss'], label='Validation Loss')\n",
    "plt.title('Model Loss')\n",
    "plt.xlabel('Epoch')\n",
    "plt.ylabel('Loss')\n",
    "plt.legend()\n",
    "plt.show()"
   ]
  },
  {
   "cell_type": "code",
   "execution_count": 44,
   "metadata": {},
   "outputs": [
    {
     "name": "stdout",
     "output_type": "stream",
     "text": [
      "97/97 [==============================] - 0s 2ms/step - loss: 9.7654e-04\n",
      "Test loss: 0.0009765353752300143\n"
     ]
    }
   ],
   "source": [
    "# Evaluate the model\n",
    "loss = model.evaluate(X_test, y_test)\n",
    "print(\"Test loss:\", loss)"
   ]
  },
  {
   "cell_type": "code",
   "execution_count": 45,
   "metadata": {},
   "outputs": [
    {
     "name": "stdout",
     "output_type": "stream",
     "text": [
      "97/97 [==============================] - 0s 2ms/step\n"
     ]
    }
   ],
   "source": [
    "# Make predictions\n",
    "predictions = model.predict(X_test)\n"
   ]
  },
  {
   "cell_type": "code",
   "execution_count": 46,
   "metadata": {},
   "outputs": [],
   "source": [
    "# Reshape predictions to match the original shape\n",
    "predictions = np.repeat(predictions, df.shape[1], axis=1)"
   ]
  },
  {
   "cell_type": "code",
   "execution_count": 47,
   "metadata": {},
   "outputs": [
    {
     "name": "stdout",
     "output_type": "stream",
     "text": [
      "Predicted rainfall: 1.0001248\n"
     ]
    }
   ],
   "source": [
    "# Print a single prediction\n",
    "print(\"Predicted rainfall:\", predictions[0][0])"
   ]
  }
 ],
 "metadata": {
  "kernelspec": {
   "display_name": "Python 3",
   "language": "python",
   "name": "python3"
  },
  "language_info": {
   "codemirror_mode": {
    "name": "ipython",
    "version": 3
   },
   "file_extension": ".py",
   "mimetype": "text/x-python",
   "name": "python",
   "nbconvert_exporter": "python",
   "pygments_lexer": "ipython3",
   "version": "3.11.4"
  },
  "orig_nbformat": 4
 },
 "nbformat": 4,
 "nbformat_minor": 2
}
